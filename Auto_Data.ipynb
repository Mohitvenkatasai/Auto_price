{
  "cells": [
    {
      "cell_type": "markdown",
      "metadata": {
        "id": "view-in-github",
        "colab_type": "text"
      },
      "source": [
        "<a href=\"https://colab.research.google.com/github/Mohitvenkatasai/Auto_price/blob/main/Auto_Data.ipynb\" target=\"_parent\"><img src=\"https://colab.research.google.com/assets/colab-badge.svg\" alt=\"Open In Colab\"/></a>"
      ]
    },
    {
      "cell_type": "markdown",
      "id": "1d042123",
      "metadata": {
        "id": "1d042123"
      },
      "source": [
        "### Importing Libraries"
      ]
    },
    {
      "cell_type": "code",
      "execution_count": null,
      "id": "0f50f26a",
      "metadata": {
        "id": "0f50f26a"
      },
      "outputs": [],
      "source": [
        "import pandas as pd\n",
        "import matplotlib.pyplot as plt\n",
        "import seaborn as sns\n",
        "import numpy as np\n",
        "from sklearn.preprocessing import OneHotEncoder\n",
        "from sklearn.preprocessing import LabelEncoder\n",
        "from sklearn.compose import ColumnTransformer\n",
        "from sklearn.model_selection import train_test_split\n",
        "from sklearn.linear_model import LinearRegression\n",
        "from sklearn.linear_model import Lasso\n",
        "from sklearn.linear_model import Ridge\n",
        "from sklearn.metrics import mean_squared_error\n",
        "from sklearn.metrics import r2_score\n",
        "from sklearn.linear_model import ElasticNet\n",
        "import statsmodels.api as sm\n",
        "from sklearn.linear_model import SGDRegressor\n",
        "from sklearn.metrics import mean_squared_error,mean_absolute_error\n",
        "import json\n",
        "from sklearn.preprocessing import StandardScaler"
      ]
    },
    {
      "cell_type": "code",
      "execution_count": null,
      "id": "d180a356",
      "metadata": {
        "id": "d180a356",
        "outputId": "f3e2e413-8084-448c-9f8f-94660e896aef"
      },
      "outputs": [
        {
          "name": "stdout",
          "output_type": "stream",
          "text": [
            "ARDRegression\n",
            "AdaBoostClassifier\n",
            "AdaBoostRegressor\n",
            "AdditiveChi2Sampler\n",
            "AffinityPropagation\n",
            "AgglomerativeClustering\n",
            "BaggingClassifier\n",
            "BaggingRegressor\n",
            "BayesianGaussianMixture\n",
            "BayesianRidge\n",
            "BernoulliNB\n",
            "BernoulliRBM\n",
            "Binarizer\n",
            "Birch\n",
            "BisectingKMeans\n",
            "CCA\n",
            "CalibratedClassifierCV\n",
            "CategoricalNB\n",
            "ClassifierChain\n",
            "ColumnTransformer\n",
            "ComplementNB\n",
            "CountVectorizer\n",
            "DBSCAN\n",
            "DecisionTreeClassifier\n",
            "DecisionTreeRegressor\n",
            "DictVectorizer\n",
            "DictionaryLearning\n",
            "DummyClassifier\n",
            "DummyRegressor\n",
            "ElasticNet\n",
            "ElasticNetCV\n",
            "EllipticEnvelope\n",
            "EmpiricalCovariance\n",
            "ExtraTreeClassifier\n",
            "ExtraTreeRegressor\n",
            "ExtraTreesClassifier\n",
            "ExtraTreesRegressor\n",
            "FactorAnalysis\n",
            "FastICA\n",
            "FeatureAgglomeration\n",
            "FeatureHasher\n",
            "FeatureUnion\n",
            "FunctionTransformer\n",
            "GammaRegressor\n",
            "GaussianMixture\n",
            "GaussianNB\n",
            "GaussianProcessClassifier\n",
            "GaussianProcessRegressor\n",
            "GaussianRandomProjection\n",
            "GenericUnivariateSelect\n",
            "GradientBoostingClassifier\n",
            "GradientBoostingRegressor\n",
            "GraphicalLasso\n",
            "GraphicalLassoCV\n",
            "GridSearchCV\n",
            "HDBSCAN\n",
            "HashingVectorizer\n",
            "HistGradientBoostingClassifier\n",
            "HistGradientBoostingRegressor\n",
            "HuberRegressor\n",
            "IncrementalPCA\n",
            "IsolationForest\n",
            "Isomap\n",
            "IsotonicRegression\n",
            "KBinsDiscretizer\n",
            "KMeans\n",
            "KNNImputer\n",
            "KNeighborsClassifier\n",
            "KNeighborsRegressor\n",
            "KNeighborsTransformer\n",
            "KernelCenterer\n",
            "KernelDensity\n",
            "KernelPCA\n",
            "KernelRidge\n",
            "LabelBinarizer\n",
            "LabelEncoder\n",
            "LabelPropagation\n",
            "LabelSpreading\n",
            "Lars\n",
            "LarsCV\n",
            "Lasso\n",
            "LassoCV\n",
            "LassoLars\n",
            "LassoLarsCV\n",
            "LassoLarsIC\n",
            "LatentDirichletAllocation\n",
            "LedoitWolf\n",
            "LinearDiscriminantAnalysis\n",
            "LinearRegression\n",
            "LinearSVC\n",
            "LinearSVR\n",
            "LocalOutlierFactor\n",
            "LocallyLinearEmbedding\n",
            "LogisticRegression\n",
            "LogisticRegressionCV\n",
            "MDS\n",
            "MLPClassifier\n",
            "MLPRegressor\n",
            "MaxAbsScaler\n",
            "MeanShift\n",
            "MinCovDet\n",
            "MinMaxScaler\n",
            "MiniBatchDictionaryLearning\n",
            "MiniBatchKMeans\n",
            "MiniBatchNMF\n",
            "MiniBatchSparsePCA\n",
            "MissingIndicator\n",
            "MultiLabelBinarizer\n",
            "MultiOutputClassifier\n",
            "MultiOutputRegressor\n",
            "MultiTaskElasticNet\n",
            "MultiTaskElasticNetCV\n",
            "MultiTaskLasso\n",
            "MultiTaskLassoCV\n",
            "MultinomialNB\n",
            "NMF\n",
            "NearestCentroid\n",
            "NearestNeighbors\n",
            "NeighborhoodComponentsAnalysis\n",
            "Normalizer\n",
            "NuSVC\n",
            "NuSVR\n",
            "Nystroem\n",
            "OAS\n",
            "OPTICS\n",
            "OneClassSVM\n",
            "OneHotEncoder\n",
            "OneVsOneClassifier\n",
            "OneVsRestClassifier\n",
            "OrdinalEncoder\n",
            "OrthogonalMatchingPursuit\n",
            "OrthogonalMatchingPursuitCV\n",
            "OutputCodeClassifier\n",
            "PCA\n",
            "PLSCanonical\n",
            "PLSRegression\n",
            "PLSSVD\n",
            "PassiveAggressiveClassifier\n",
            "PassiveAggressiveRegressor\n",
            "PatchExtractor\n",
            "Perceptron\n",
            "Pipeline\n",
            "PoissonRegressor\n",
            "PolynomialCountSketch\n",
            "PolynomialFeatures\n",
            "PowerTransformer\n",
            "QuadraticDiscriminantAnalysis\n",
            "QuantileRegressor\n",
            "QuantileTransformer\n",
            "RANSACRegressor\n",
            "RBFSampler\n",
            "RFE\n",
            "RFECV\n",
            "RadiusNeighborsClassifier\n",
            "RadiusNeighborsRegressor\n",
            "RadiusNeighborsTransformer\n",
            "RandomForestClassifier\n",
            "RandomForestRegressor\n",
            "RandomTreesEmbedding\n",
            "RandomizedSearchCV\n",
            "RegressorChain\n",
            "Ridge\n",
            "RidgeCV\n",
            "RidgeClassifier\n",
            "RidgeClassifierCV\n",
            "RobustScaler\n",
            "SGDClassifier\n",
            "SGDOneClassSVM\n",
            "SGDRegressor\n",
            "SVC\n",
            "SVR\n",
            "SelectFdr\n",
            "SelectFpr\n",
            "SelectFromModel\n",
            "SelectFwe\n",
            "SelectKBest\n",
            "SelectPercentile\n",
            "SelfTrainingClassifier\n",
            "SequentialFeatureSelector\n",
            "ShrunkCovariance\n",
            "SimpleImputer\n",
            "SkewedChi2Sampler\n",
            "SparseCoder\n",
            "SparsePCA\n",
            "SparseRandomProjection\n",
            "SpectralBiclustering\n",
            "SpectralClustering\n",
            "SpectralCoclustering\n",
            "SpectralEmbedding\n",
            "SplineTransformer\n",
            "StackingClassifier\n",
            "StackingRegressor\n",
            "StandardScaler\n",
            "TSNE\n",
            "TargetEncoder\n",
            "TfidfTransformer\n",
            "TfidfVectorizer\n",
            "TheilSenRegressor\n",
            "TransformedTargetRegressor\n",
            "TruncatedSVD\n",
            "TweedieRegressor\n",
            "VarianceThreshold\n",
            "VotingClassifier\n",
            "VotingRegressor\n"
          ]
        }
      ],
      "source": [
        "from sklearn.utils import all_estimators\n",
        "\n",
        "# Get all available estimators\n",
        "estimators = all_estimators(type_filter=None)  # Set type_filter to 'None' to get all types of estimators\n",
        "\n",
        "# Print the names of all available estimators\n",
        "for name, estimator_class in estimators:\n",
        "    print(name)"
      ]
    },
    {
      "cell_type": "markdown",
      "id": "2a361df1",
      "metadata": {
        "id": "2a361df1"
      },
      "source": [
        "### Loading and Read the data"
      ]
    },
    {
      "cell_type": "code",
      "execution_count": null,
      "id": "eb4f3871",
      "metadata": {
        "id": "eb4f3871",
        "outputId": "20fdfd87-63ea-4fcc-a036-b55620e2ec9a"
      },
      "outputs": [
        {
          "data": {
            "text/html": [
              "<div>\n",
              "<style scoped>\n",
              "    .dataframe tbody tr th:only-of-type {\n",
              "        vertical-align: middle;\n",
              "    }\n",
              "\n",
              "    .dataframe tbody tr th {\n",
              "        vertical-align: top;\n",
              "    }\n",
              "\n",
              "    .dataframe thead th {\n",
              "        text-align: right;\n",
              "    }\n",
              "</style>\n",
              "<table border=\"1\" class=\"dataframe\">\n",
              "  <thead>\n",
              "    <tr style=\"text-align: right;\">\n",
              "      <th></th>\n",
              "      <th>symboling</th>\n",
              "      <th>normalized-losses</th>\n",
              "      <th>make</th>\n",
              "      <th>fuel-type</th>\n",
              "      <th>aspiration</th>\n",
              "      <th>num-of-doors</th>\n",
              "      <th>body-style</th>\n",
              "      <th>drive-wheels</th>\n",
              "      <th>engine-location</th>\n",
              "      <th>wheel-base</th>\n",
              "      <th>...</th>\n",
              "      <th>engine-size</th>\n",
              "      <th>fuel-system</th>\n",
              "      <th>bore</th>\n",
              "      <th>stroke</th>\n",
              "      <th>compression-ratio</th>\n",
              "      <th>horsepower</th>\n",
              "      <th>peak-rpm</th>\n",
              "      <th>city-mpg</th>\n",
              "      <th>highway-mpg</th>\n",
              "      <th>price</th>\n",
              "    </tr>\n",
              "  </thead>\n",
              "  <tbody>\n",
              "    <tr>\n",
              "      <th>0</th>\n",
              "      <td>3</td>\n",
              "      <td>?</td>\n",
              "      <td>alfa-romero</td>\n",
              "      <td>gas</td>\n",
              "      <td>std</td>\n",
              "      <td>two</td>\n",
              "      <td>convertible</td>\n",
              "      <td>rwd</td>\n",
              "      <td>front</td>\n",
              "      <td>88.6</td>\n",
              "      <td>...</td>\n",
              "      <td>130</td>\n",
              "      <td>mpfi</td>\n",
              "      <td>3.47</td>\n",
              "      <td>2.68</td>\n",
              "      <td>9.0</td>\n",
              "      <td>111</td>\n",
              "      <td>5000</td>\n",
              "      <td>21</td>\n",
              "      <td>27</td>\n",
              "      <td>13495</td>\n",
              "    </tr>\n",
              "    <tr>\n",
              "      <th>1</th>\n",
              "      <td>3</td>\n",
              "      <td>?</td>\n",
              "      <td>alfa-romero</td>\n",
              "      <td>gas</td>\n",
              "      <td>std</td>\n",
              "      <td>two</td>\n",
              "      <td>convertible</td>\n",
              "      <td>rwd</td>\n",
              "      <td>front</td>\n",
              "      <td>88.6</td>\n",
              "      <td>...</td>\n",
              "      <td>130</td>\n",
              "      <td>mpfi</td>\n",
              "      <td>3.47</td>\n",
              "      <td>2.68</td>\n",
              "      <td>9.0</td>\n",
              "      <td>111</td>\n",
              "      <td>5000</td>\n",
              "      <td>21</td>\n",
              "      <td>27</td>\n",
              "      <td>16500</td>\n",
              "    </tr>\n",
              "    <tr>\n",
              "      <th>2</th>\n",
              "      <td>1</td>\n",
              "      <td>?</td>\n",
              "      <td>alfa-romero</td>\n",
              "      <td>gas</td>\n",
              "      <td>std</td>\n",
              "      <td>two</td>\n",
              "      <td>hatchback</td>\n",
              "      <td>rwd</td>\n",
              "      <td>front</td>\n",
              "      <td>94.5</td>\n",
              "      <td>...</td>\n",
              "      <td>152</td>\n",
              "      <td>mpfi</td>\n",
              "      <td>2.68</td>\n",
              "      <td>3.47</td>\n",
              "      <td>9.0</td>\n",
              "      <td>154</td>\n",
              "      <td>5000</td>\n",
              "      <td>19</td>\n",
              "      <td>26</td>\n",
              "      <td>16500</td>\n",
              "    </tr>\n",
              "    <tr>\n",
              "      <th>3</th>\n",
              "      <td>2</td>\n",
              "      <td>164</td>\n",
              "      <td>audi</td>\n",
              "      <td>gas</td>\n",
              "      <td>std</td>\n",
              "      <td>four</td>\n",
              "      <td>sedan</td>\n",
              "      <td>fwd</td>\n",
              "      <td>front</td>\n",
              "      <td>99.8</td>\n",
              "      <td>...</td>\n",
              "      <td>109</td>\n",
              "      <td>mpfi</td>\n",
              "      <td>3.19</td>\n",
              "      <td>3.4</td>\n",
              "      <td>10.0</td>\n",
              "      <td>102</td>\n",
              "      <td>5500</td>\n",
              "      <td>24</td>\n",
              "      <td>30</td>\n",
              "      <td>13950</td>\n",
              "    </tr>\n",
              "    <tr>\n",
              "      <th>4</th>\n",
              "      <td>2</td>\n",
              "      <td>164</td>\n",
              "      <td>audi</td>\n",
              "      <td>gas</td>\n",
              "      <td>std</td>\n",
              "      <td>four</td>\n",
              "      <td>sedan</td>\n",
              "      <td>4wd</td>\n",
              "      <td>front</td>\n",
              "      <td>99.4</td>\n",
              "      <td>...</td>\n",
              "      <td>136</td>\n",
              "      <td>mpfi</td>\n",
              "      <td>3.19</td>\n",
              "      <td>3.4</td>\n",
              "      <td>8.0</td>\n",
              "      <td>115</td>\n",
              "      <td>5500</td>\n",
              "      <td>18</td>\n",
              "      <td>22</td>\n",
              "      <td>17450</td>\n",
              "    </tr>\n",
              "  </tbody>\n",
              "</table>\n",
              "<p>5 rows × 26 columns</p>\n",
              "</div>"
            ],
            "text/plain": [
              "   symboling normalized-losses         make fuel-type aspiration num-of-doors  \\\n",
              "0          3                 ?  alfa-romero       gas        std          two   \n",
              "1          3                 ?  alfa-romero       gas        std          two   \n",
              "2          1                 ?  alfa-romero       gas        std          two   \n",
              "3          2               164         audi       gas        std         four   \n",
              "4          2               164         audi       gas        std         four   \n",
              "\n",
              "    body-style drive-wheels engine-location  wheel-base  ...  engine-size  \\\n",
              "0  convertible          rwd           front        88.6  ...          130   \n",
              "1  convertible          rwd           front        88.6  ...          130   \n",
              "2    hatchback          rwd           front        94.5  ...          152   \n",
              "3        sedan          fwd           front        99.8  ...          109   \n",
              "4        sedan          4wd           front        99.4  ...          136   \n",
              "\n",
              "   fuel-system  bore  stroke compression-ratio horsepower  peak-rpm city-mpg  \\\n",
              "0         mpfi  3.47    2.68               9.0        111      5000       21   \n",
              "1         mpfi  3.47    2.68               9.0        111      5000       21   \n",
              "2         mpfi  2.68    3.47               9.0        154      5000       19   \n",
              "3         mpfi  3.19     3.4              10.0        102      5500       24   \n",
              "4         mpfi  3.19     3.4               8.0        115      5500       18   \n",
              "\n",
              "  highway-mpg  price  \n",
              "0          27  13495  \n",
              "1          27  16500  \n",
              "2          26  16500  \n",
              "3          30  13950  \n",
              "4          22  17450  \n",
              "\n",
              "[5 rows x 26 columns]"
            ]
          },
          "execution_count": 200,
          "metadata": {},
          "output_type": "execute_result"
        }
      ],
      "source": [
        "df=pd.read_csv('autos_dataset.csv')\n",
        "df.head()"
      ]
    },
    {
      "cell_type": "markdown",
      "id": "98b2ff12",
      "metadata": {
        "id": "98b2ff12"
      },
      "source": [
        "### Checking the Shape of the data"
      ]
    },
    {
      "cell_type": "code",
      "execution_count": null,
      "id": "fabbdf5e",
      "metadata": {
        "id": "fabbdf5e",
        "outputId": "60b9c8f7-f51c-4b74-89b9-97dd75a07831"
      },
      "outputs": [
        {
          "data": {
            "text/plain": [
              "(205, 26)"
            ]
          },
          "execution_count": 201,
          "metadata": {},
          "output_type": "execute_result"
        }
      ],
      "source": [
        "df.shape"
      ]
    },
    {
      "cell_type": "markdown",
      "id": "d2cdb4b6",
      "metadata": {
        "id": "d2cdb4b6"
      },
      "source": [
        "### Checking the statistical information"
      ]
    },
    {
      "cell_type": "code",
      "execution_count": null,
      "id": "d48ca5dc",
      "metadata": {
        "id": "d48ca5dc",
        "outputId": "e468d1bb-5433-49c3-daf7-d608c81787a8"
      },
      "outputs": [
        {
          "data": {
            "text/html": [
              "<div>\n",
              "<style scoped>\n",
              "    .dataframe tbody tr th:only-of-type {\n",
              "        vertical-align: middle;\n",
              "    }\n",
              "\n",
              "    .dataframe tbody tr th {\n",
              "        vertical-align: top;\n",
              "    }\n",
              "\n",
              "    .dataframe thead th {\n",
              "        text-align: right;\n",
              "    }\n",
              "</style>\n",
              "<table border=\"1\" class=\"dataframe\">\n",
              "  <thead>\n",
              "    <tr style=\"text-align: right;\">\n",
              "      <th></th>\n",
              "      <th>count</th>\n",
              "      <th>mean</th>\n",
              "      <th>std</th>\n",
              "      <th>min</th>\n",
              "      <th>25%</th>\n",
              "      <th>50%</th>\n",
              "      <th>75%</th>\n",
              "      <th>max</th>\n",
              "    </tr>\n",
              "  </thead>\n",
              "  <tbody>\n",
              "    <tr>\n",
              "      <th>symboling</th>\n",
              "      <td>205.0</td>\n",
              "      <td>0.834146</td>\n",
              "      <td>1.245307</td>\n",
              "      <td>-2.0</td>\n",
              "      <td>0.0</td>\n",
              "      <td>1.0</td>\n",
              "      <td>2.0</td>\n",
              "      <td>3.0</td>\n",
              "    </tr>\n",
              "    <tr>\n",
              "      <th>wheel-base</th>\n",
              "      <td>205.0</td>\n",
              "      <td>98.756585</td>\n",
              "      <td>6.021776</td>\n",
              "      <td>86.6</td>\n",
              "      <td>94.5</td>\n",
              "      <td>97.0</td>\n",
              "      <td>102.4</td>\n",
              "      <td>120.9</td>\n",
              "    </tr>\n",
              "    <tr>\n",
              "      <th>length</th>\n",
              "      <td>205.0</td>\n",
              "      <td>174.049268</td>\n",
              "      <td>12.337289</td>\n",
              "      <td>141.1</td>\n",
              "      <td>166.3</td>\n",
              "      <td>173.2</td>\n",
              "      <td>183.1</td>\n",
              "      <td>208.1</td>\n",
              "    </tr>\n",
              "    <tr>\n",
              "      <th>width</th>\n",
              "      <td>205.0</td>\n",
              "      <td>65.907805</td>\n",
              "      <td>2.145204</td>\n",
              "      <td>60.3</td>\n",
              "      <td>64.1</td>\n",
              "      <td>65.5</td>\n",
              "      <td>66.9</td>\n",
              "      <td>72.3</td>\n",
              "    </tr>\n",
              "    <tr>\n",
              "      <th>height</th>\n",
              "      <td>205.0</td>\n",
              "      <td>53.724878</td>\n",
              "      <td>2.443522</td>\n",
              "      <td>47.8</td>\n",
              "      <td>52.0</td>\n",
              "      <td>54.1</td>\n",
              "      <td>55.5</td>\n",
              "      <td>59.8</td>\n",
              "    </tr>\n",
              "    <tr>\n",
              "      <th>curb-weight</th>\n",
              "      <td>205.0</td>\n",
              "      <td>2555.565854</td>\n",
              "      <td>520.680204</td>\n",
              "      <td>1488.0</td>\n",
              "      <td>2145.0</td>\n",
              "      <td>2414.0</td>\n",
              "      <td>2935.0</td>\n",
              "      <td>4066.0</td>\n",
              "    </tr>\n",
              "    <tr>\n",
              "      <th>engine-size</th>\n",
              "      <td>205.0</td>\n",
              "      <td>126.907317</td>\n",
              "      <td>41.642693</td>\n",
              "      <td>61.0</td>\n",
              "      <td>97.0</td>\n",
              "      <td>120.0</td>\n",
              "      <td>141.0</td>\n",
              "      <td>326.0</td>\n",
              "    </tr>\n",
              "    <tr>\n",
              "      <th>compression-ratio</th>\n",
              "      <td>205.0</td>\n",
              "      <td>10.142537</td>\n",
              "      <td>3.972040</td>\n",
              "      <td>7.0</td>\n",
              "      <td>8.6</td>\n",
              "      <td>9.0</td>\n",
              "      <td>9.4</td>\n",
              "      <td>23.0</td>\n",
              "    </tr>\n",
              "    <tr>\n",
              "      <th>city-mpg</th>\n",
              "      <td>205.0</td>\n",
              "      <td>25.219512</td>\n",
              "      <td>6.542142</td>\n",
              "      <td>13.0</td>\n",
              "      <td>19.0</td>\n",
              "      <td>24.0</td>\n",
              "      <td>30.0</td>\n",
              "      <td>49.0</td>\n",
              "    </tr>\n",
              "    <tr>\n",
              "      <th>highway-mpg</th>\n",
              "      <td>205.0</td>\n",
              "      <td>30.751220</td>\n",
              "      <td>6.886443</td>\n",
              "      <td>16.0</td>\n",
              "      <td>25.0</td>\n",
              "      <td>30.0</td>\n",
              "      <td>34.0</td>\n",
              "      <td>54.0</td>\n",
              "    </tr>\n",
              "  </tbody>\n",
              "</table>\n",
              "</div>"
            ],
            "text/plain": [
              "                   count         mean         std     min     25%     50%  \\\n",
              "symboling          205.0     0.834146    1.245307    -2.0     0.0     1.0   \n",
              "wheel-base         205.0    98.756585    6.021776    86.6    94.5    97.0   \n",
              "length             205.0   174.049268   12.337289   141.1   166.3   173.2   \n",
              "width              205.0    65.907805    2.145204    60.3    64.1    65.5   \n",
              "height             205.0    53.724878    2.443522    47.8    52.0    54.1   \n",
              "curb-weight        205.0  2555.565854  520.680204  1488.0  2145.0  2414.0   \n",
              "engine-size        205.0   126.907317   41.642693    61.0    97.0   120.0   \n",
              "compression-ratio  205.0    10.142537    3.972040     7.0     8.6     9.0   \n",
              "city-mpg           205.0    25.219512    6.542142    13.0    19.0    24.0   \n",
              "highway-mpg        205.0    30.751220    6.886443    16.0    25.0    30.0   \n",
              "\n",
              "                      75%     max  \n",
              "symboling             2.0     3.0  \n",
              "wheel-base          102.4   120.9  \n",
              "length              183.1   208.1  \n",
              "width                66.9    72.3  \n",
              "height               55.5    59.8  \n",
              "curb-weight        2935.0  4066.0  \n",
              "engine-size         141.0   326.0  \n",
              "compression-ratio     9.4    23.0  \n",
              "city-mpg             30.0    49.0  \n",
              "highway-mpg          34.0    54.0  "
            ]
          },
          "execution_count": 202,
          "metadata": {},
          "output_type": "execute_result"
        }
      ],
      "source": [
        "df.describe().T   ## 7 type stats data point"
      ]
    },
    {
      "cell_type": "code",
      "execution_count": null,
      "id": "6ec81e92",
      "metadata": {
        "id": "6ec81e92",
        "outputId": "34755bdc-94ce-4961-8d06-3020db794ec6"
      },
      "outputs": [
        {
          "data": {
            "text/html": [
              "<div>\n",
              "<style scoped>\n",
              "    .dataframe tbody tr th:only-of-type {\n",
              "        vertical-align: middle;\n",
              "    }\n",
              "\n",
              "    .dataframe tbody tr th {\n",
              "        vertical-align: top;\n",
              "    }\n",
              "\n",
              "    .dataframe thead th {\n",
              "        text-align: right;\n",
              "    }\n",
              "</style>\n",
              "<table border=\"1\" class=\"dataframe\">\n",
              "  <thead>\n",
              "    <tr style=\"text-align: right;\">\n",
              "      <th></th>\n",
              "      <th>count</th>\n",
              "      <th>unique</th>\n",
              "      <th>top</th>\n",
              "      <th>freq</th>\n",
              "    </tr>\n",
              "  </thead>\n",
              "  <tbody>\n",
              "    <tr>\n",
              "      <th>normalized-losses</th>\n",
              "      <td>205</td>\n",
              "      <td>52</td>\n",
              "      <td>?</td>\n",
              "      <td>41</td>\n",
              "    </tr>\n",
              "    <tr>\n",
              "      <th>make</th>\n",
              "      <td>205</td>\n",
              "      <td>22</td>\n",
              "      <td>toyota</td>\n",
              "      <td>32</td>\n",
              "    </tr>\n",
              "    <tr>\n",
              "      <th>fuel-type</th>\n",
              "      <td>205</td>\n",
              "      <td>2</td>\n",
              "      <td>gas</td>\n",
              "      <td>185</td>\n",
              "    </tr>\n",
              "    <tr>\n",
              "      <th>aspiration</th>\n",
              "      <td>205</td>\n",
              "      <td>2</td>\n",
              "      <td>std</td>\n",
              "      <td>168</td>\n",
              "    </tr>\n",
              "    <tr>\n",
              "      <th>num-of-doors</th>\n",
              "      <td>205</td>\n",
              "      <td>3</td>\n",
              "      <td>four</td>\n",
              "      <td>114</td>\n",
              "    </tr>\n",
              "    <tr>\n",
              "      <th>body-style</th>\n",
              "      <td>205</td>\n",
              "      <td>5</td>\n",
              "      <td>sedan</td>\n",
              "      <td>96</td>\n",
              "    </tr>\n",
              "    <tr>\n",
              "      <th>drive-wheels</th>\n",
              "      <td>205</td>\n",
              "      <td>3</td>\n",
              "      <td>fwd</td>\n",
              "      <td>120</td>\n",
              "    </tr>\n",
              "    <tr>\n",
              "      <th>engine-location</th>\n",
              "      <td>205</td>\n",
              "      <td>2</td>\n",
              "      <td>front</td>\n",
              "      <td>202</td>\n",
              "    </tr>\n",
              "    <tr>\n",
              "      <th>engine-type</th>\n",
              "      <td>205</td>\n",
              "      <td>7</td>\n",
              "      <td>ohc</td>\n",
              "      <td>148</td>\n",
              "    </tr>\n",
              "    <tr>\n",
              "      <th>num-of-cylinders</th>\n",
              "      <td>205</td>\n",
              "      <td>7</td>\n",
              "      <td>four</td>\n",
              "      <td>159</td>\n",
              "    </tr>\n",
              "    <tr>\n",
              "      <th>fuel-system</th>\n",
              "      <td>205</td>\n",
              "      <td>8</td>\n",
              "      <td>mpfi</td>\n",
              "      <td>94</td>\n",
              "    </tr>\n",
              "    <tr>\n",
              "      <th>bore</th>\n",
              "      <td>205</td>\n",
              "      <td>39</td>\n",
              "      <td>3.62</td>\n",
              "      <td>23</td>\n",
              "    </tr>\n",
              "    <tr>\n",
              "      <th>stroke</th>\n",
              "      <td>205</td>\n",
              "      <td>37</td>\n",
              "      <td>3.4</td>\n",
              "      <td>20</td>\n",
              "    </tr>\n",
              "    <tr>\n",
              "      <th>horsepower</th>\n",
              "      <td>205</td>\n",
              "      <td>60</td>\n",
              "      <td>68</td>\n",
              "      <td>19</td>\n",
              "    </tr>\n",
              "    <tr>\n",
              "      <th>peak-rpm</th>\n",
              "      <td>205</td>\n",
              "      <td>24</td>\n",
              "      <td>5500</td>\n",
              "      <td>37</td>\n",
              "    </tr>\n",
              "    <tr>\n",
              "      <th>price</th>\n",
              "      <td>205</td>\n",
              "      <td>187</td>\n",
              "      <td>?</td>\n",
              "      <td>4</td>\n",
              "    </tr>\n",
              "  </tbody>\n",
              "</table>\n",
              "</div>"
            ],
            "text/plain": [
              "                  count unique     top freq\n",
              "normalized-losses   205     52       ?   41\n",
              "make                205     22  toyota   32\n",
              "fuel-type           205      2     gas  185\n",
              "aspiration          205      2     std  168\n",
              "num-of-doors        205      3    four  114\n",
              "body-style          205      5   sedan   96\n",
              "drive-wheels        205      3     fwd  120\n",
              "engine-location     205      2   front  202\n",
              "engine-type         205      7     ohc  148\n",
              "num-of-cylinders    205      7    four  159\n",
              "fuel-system         205      8    mpfi   94\n",
              "bore                205     39    3.62   23\n",
              "stroke              205     37     3.4   20\n",
              "horsepower          205     60      68   19\n",
              "peak-rpm            205     24    5500   37\n",
              "price               205    187       ?    4"
            ]
          },
          "execution_count": 203,
          "metadata": {},
          "output_type": "execute_result"
        }
      ],
      "source": [
        "df.describe(include='object').T"
      ]
    },
    {
      "cell_type": "markdown",
      "id": "6a29b387",
      "metadata": {
        "id": "6a29b387"
      },
      "source": [
        "### Checking null values"
      ]
    },
    {
      "cell_type": "code",
      "execution_count": null,
      "id": "5aa9b977",
      "metadata": {
        "id": "5aa9b977",
        "outputId": "966c738f-d49c-4dfe-c2c4-dc12f871b13d"
      },
      "outputs": [
        {
          "data": {
            "text/plain": [
              "symboling            0\n",
              "normalized-losses    0\n",
              "make                 0\n",
              "fuel-type            0\n",
              "aspiration           0\n",
              "num-of-doors         0\n",
              "body-style           0\n",
              "drive-wheels         0\n",
              "engine-location      0\n",
              "wheel-base           0\n",
              "length               0\n",
              "width                0\n",
              "height               0\n",
              "curb-weight          0\n",
              "engine-type          0\n",
              "num-of-cylinders     0\n",
              "engine-size          0\n",
              "fuel-system          0\n",
              "bore                 0\n",
              "stroke               0\n",
              "compression-ratio    0\n",
              "horsepower           0\n",
              "peak-rpm             0\n",
              "city-mpg             0\n",
              "highway-mpg          0\n",
              "price                0\n",
              "dtype: int64"
            ]
          },
          "execution_count": 204,
          "metadata": {},
          "output_type": "execute_result"
        }
      ],
      "source": [
        "df.isnull().sum()"
      ]
    },
    {
      "cell_type": "markdown",
      "id": "89915cc4",
      "metadata": {
        "id": "89915cc4"
      },
      "source": [
        "### Looking for Data types"
      ]
    },
    {
      "cell_type": "code",
      "execution_count": null,
      "id": "49d28339",
      "metadata": {
        "scrolled": true,
        "id": "49d28339",
        "outputId": "d07cd98f-e8b8-4279-c840-1626f40cfc29"
      },
      "outputs": [
        {
          "data": {
            "text/plain": [
              "symboling              int64\n",
              "normalized-losses     object\n",
              "make                  object\n",
              "fuel-type             object\n",
              "aspiration            object\n",
              "num-of-doors          object\n",
              "body-style            object\n",
              "drive-wheels          object\n",
              "engine-location       object\n",
              "wheel-base           float64\n",
              "length               float64\n",
              "width                float64\n",
              "height               float64\n",
              "curb-weight            int64\n",
              "engine-type           object\n",
              "num-of-cylinders      object\n",
              "engine-size            int64\n",
              "fuel-system           object\n",
              "bore                  object\n",
              "stroke                object\n",
              "compression-ratio    float64\n",
              "horsepower            object\n",
              "peak-rpm              object\n",
              "city-mpg               int64\n",
              "highway-mpg            int64\n",
              "price                 object\n",
              "dtype: object"
            ]
          },
          "execution_count": 205,
          "metadata": {},
          "output_type": "execute_result"
        }
      ],
      "source": [
        "df.dtypes"
      ]
    },
    {
      "cell_type": "code",
      "execution_count": null,
      "id": "71ce7f6c",
      "metadata": {
        "id": "71ce7f6c"
      },
      "outputs": [],
      "source": []
    },
    {
      "cell_type": "markdown",
      "id": "0cc90df5",
      "metadata": {
        "id": "0cc90df5"
      },
      "source": [
        "### Checking values in first column"
      ]
    },
    {
      "cell_type": "code",
      "execution_count": null,
      "id": "1524e408",
      "metadata": {
        "id": "1524e408",
        "outputId": "9ea208ad-82cf-420b-dba0-b5859d642fcd"
      },
      "outputs": [
        {
          "data": {
            "text/plain": [
              "{'?': 41,\n",
              " '161': 11,\n",
              " '91': 8,\n",
              " '150': 7,\n",
              " '134': 6,\n",
              " '128': 6,\n",
              " '104': 6,\n",
              " '85': 5,\n",
              " '94': 5,\n",
              " '65': 5,\n",
              " '102': 5,\n",
              " '74': 5,\n",
              " '168': 5,\n",
              " '103': 5,\n",
              " '95': 5,\n",
              " '106': 4,\n",
              " '93': 4,\n",
              " '118': 4,\n",
              " '148': 4,\n",
              " '122': 4,\n",
              " '83': 3,\n",
              " '125': 3,\n",
              " '154': 3,\n",
              " '115': 3,\n",
              " '137': 3,\n",
              " '101': 3,\n",
              " '119': 2,\n",
              " '87': 2,\n",
              " '89': 2,\n",
              " '192': 2,\n",
              " '197': 2,\n",
              " '158': 2,\n",
              " '81': 2,\n",
              " '188': 2,\n",
              " '194': 2,\n",
              " '153': 2,\n",
              " '129': 2,\n",
              " '108': 2,\n",
              " '110': 2,\n",
              " '164': 2,\n",
              " '145': 2,\n",
              " '113': 2,\n",
              " '256': 1,\n",
              " '107': 1,\n",
              " '90': 1,\n",
              " '231': 1,\n",
              " '142': 1,\n",
              " '121': 1,\n",
              " '78': 1,\n",
              " '98': 1,\n",
              " '186': 1,\n",
              " '77': 1}"
            ]
          },
          "execution_count": 206,
          "metadata": {},
          "output_type": "execute_result"
        }
      ],
      "source": [
        "df['normalized-losses'].value_counts().to_dict()"
      ]
    },
    {
      "cell_type": "markdown",
      "id": "e9c3d325",
      "metadata": {
        "id": "e9c3d325"
      },
      "source": [
        "### We have '?' which are null values which have 41 values, replacing with NAN values."
      ]
    },
    {
      "cell_type": "code",
      "execution_count": null,
      "id": "0ba2bb69",
      "metadata": {
        "id": "0ba2bb69"
      },
      "outputs": [],
      "source": [
        "df['normalized-losses'].replace({'?':np.nan},inplace=True)"
      ]
    },
    {
      "cell_type": "code",
      "execution_count": null,
      "id": "47c344de",
      "metadata": {
        "id": "47c344de",
        "outputId": "6da2bce7-7c14-4eef-8dad-e37b60acd525"
      },
      "outputs": [
        {
          "data": {
            "text/plain": [
              "array([nan, '164', '158', '192', '188', '121', '98', '81', '118', '148',\n",
              "       '110', '145', '137', '101', '78', '106', '85', '107', '104', '113',\n",
              "       '150', '129', '115', '93', '142', '161', '153', '125', '128',\n",
              "       '122', '103', '168', '108', '194', '231', '119', '154', '74',\n",
              "       '186', '83', '102', '89', '87', '77', '91', '134', '65', '197',\n",
              "       '90', '94', '256', '95'], dtype=object)"
            ]
          },
          "execution_count": 208,
          "metadata": {},
          "output_type": "execute_result"
        }
      ],
      "source": [
        "df['normalized-losses'].unique()"
      ]
    },
    {
      "cell_type": "code",
      "execution_count": null,
      "id": "bcfa4283",
      "metadata": {
        "id": "bcfa4283",
        "outputId": "30dd3cbe-4e0d-4bf3-aa1f-76b9667b28fa"
      },
      "outputs": [
        {
          "data": {
            "text/plain": [
              "Index(['symboling', 'normalized-losses', 'make', 'fuel-type', 'aspiration',\n",
              "       'num-of-doors', 'body-style', 'drive-wheels', 'engine-location',\n",
              "       'wheel-base', 'length', 'width', 'height', 'curb-weight', 'engine-type',\n",
              "       'num-of-cylinders', 'engine-size', 'fuel-system', 'bore', 'stroke',\n",
              "       'compression-ratio', 'horsepower', 'peak-rpm', 'city-mpg',\n",
              "       'highway-mpg', 'price'],\n",
              "      dtype='object')"
            ]
          },
          "execution_count": 209,
          "metadata": {},
          "output_type": "execute_result"
        }
      ],
      "source": [
        "df.columns"
      ]
    },
    {
      "cell_type": "markdown",
      "id": "2d27ed0a",
      "metadata": {
        "id": "2d27ed0a"
      },
      "source": [
        "### Peak-rpm Have '?' values which are nan values replaced with 'nan' values"
      ]
    },
    {
      "cell_type": "code",
      "execution_count": null,
      "id": "badb574c",
      "metadata": {
        "id": "badb574c"
      },
      "outputs": [],
      "source": [
        "df['peak-rpm'].replace({'?':np.nan},inplace=True)"
      ]
    },
    {
      "cell_type": "code",
      "execution_count": null,
      "id": "93d3ac70",
      "metadata": {
        "id": "93d3ac70",
        "outputId": "5b2f9bb1-778c-44c4-c71f-813ff7e11499"
      },
      "outputs": [
        {
          "data": {
            "text/plain": [
              "array(['5000', '5500', '5800', '4250', '5400', '5100', '4800', '6000',\n",
              "       '4750', '4650', '4200', '4350', '4500', '5200', '4150', '5600',\n",
              "       '5900', '5750', nan, '5250', '4900', '4400', '6600', '5300'],\n",
              "      dtype=object)"
            ]
          },
          "execution_count": 211,
          "metadata": {},
          "output_type": "execute_result"
        }
      ],
      "source": [
        "df['peak-rpm'].unique()"
      ]
    },
    {
      "cell_type": "markdown",
      "id": "5658564a",
      "metadata": {
        "id": "5658564a"
      },
      "source": [
        "### Horsepower has '?' Values with nan values replaced with 'nan' valuues"
      ]
    },
    {
      "cell_type": "code",
      "execution_count": null,
      "id": "88e78e32",
      "metadata": {
        "id": "88e78e32"
      },
      "outputs": [],
      "source": [
        "df['horsepower'].replace({'?':np.nan},inplace=True)"
      ]
    },
    {
      "cell_type": "code",
      "execution_count": null,
      "id": "6f9da487",
      "metadata": {
        "id": "6f9da487",
        "outputId": "fd8f3af2-1dfd-40a4-a79f-13b45af653d2"
      },
      "outputs": [
        {
          "data": {
            "text/plain": [
              "array(['111', '154', '102', '115', '110', '140', '160', '101', '121',\n",
              "       '182', '48', '70', '68', '88', '145', '58', '76', '60', '86',\n",
              "       '100', '78', '90', '176', '262', '135', '84', '64', '120', '72',\n",
              "       '123', '155', '184', '175', '116', '69', '55', '97', '152', '200',\n",
              "       '95', '142', '143', '207', '288', nan, '73', '82', '94', '62',\n",
              "       '56', '112', '92', '161', '156', '52', '85', '114', '162', '134',\n",
              "       '106'], dtype=object)"
            ]
          },
          "execution_count": 213,
          "metadata": {},
          "output_type": "execute_result"
        }
      ],
      "source": [
        "df['horsepower'].unique()"
      ]
    },
    {
      "cell_type": "markdown",
      "id": "84d4960f",
      "metadata": {
        "id": "84d4960f"
      },
      "source": [
        "### checking null values"
      ]
    },
    {
      "cell_type": "code",
      "execution_count": null,
      "id": "b3e0f643",
      "metadata": {
        "id": "b3e0f643",
        "outputId": "c96b022c-5e21-429f-9805-54688b2b8f78"
      },
      "outputs": [
        {
          "data": {
            "text/plain": [
              "symboling             0\n",
              "normalized-losses    41\n",
              "make                  0\n",
              "fuel-type             0\n",
              "aspiration            0\n",
              "num-of-doors          0\n",
              "body-style            0\n",
              "drive-wheels          0\n",
              "engine-location       0\n",
              "wheel-base            0\n",
              "length                0\n",
              "width                 0\n",
              "height                0\n",
              "curb-weight           0\n",
              "engine-type           0\n",
              "num-of-cylinders      0\n",
              "engine-size           0\n",
              "fuel-system           0\n",
              "bore                  0\n",
              "stroke                0\n",
              "compression-ratio     0\n",
              "horsepower            2\n",
              "peak-rpm              2\n",
              "city-mpg              0\n",
              "highway-mpg           0\n",
              "price                 0\n",
              "dtype: int64"
            ]
          },
          "execution_count": 214,
          "metadata": {},
          "output_type": "execute_result"
        }
      ],
      "source": [
        "df.isnull().sum()"
      ]
    },
    {
      "cell_type": "code",
      "execution_count": null,
      "id": "33ccf9a2",
      "metadata": {
        "id": "33ccf9a2",
        "outputId": "a63275c9-6297-4db8-d970-2fd534eedb75"
      },
      "outputs": [
        {
          "data": {
            "text/plain": [
              "dtype('O')"
            ]
          },
          "execution_count": 215,
          "metadata": {},
          "output_type": "execute_result"
        }
      ],
      "source": [
        "df['normalized-losses'].dtypes ### The column has numerical values but it is in Object changing the data type"
      ]
    },
    {
      "cell_type": "code",
      "execution_count": null,
      "id": "7afd9326",
      "metadata": {
        "id": "7afd9326"
      },
      "outputs": [],
      "source": [
        "df['normalized-losses']=df['normalized-losses'].astype(float) ## Converting the object values to float"
      ]
    },
    {
      "cell_type": "code",
      "execution_count": null,
      "id": "d1b41aa5",
      "metadata": {
        "scrolled": false,
        "id": "d1b41aa5",
        "outputId": "935c9ae1-3c41-4894-8ee8-348ebf76f27b"
      },
      "outputs": [
        {
          "data": {
            "text/plain": [
              "<Axes: >"
            ]
          },
          "execution_count": 217,
          "metadata": {},
          "output_type": "execute_result"
        },
        {
          "data": {
            "image/png": "[encoded data removed]",
            "text/plain": [
              "<Figure size 640x480 with 1 Axes>"
            ]
          },
          "metadata": {},
          "output_type": "display_data"
        }
      ],
      "source": [
        "sns.boxplot(df['normalized-losses']) ## as we can see we have ouliter we are filling 'nan' values with median."
      ]
    },
    {
      "cell_type": "code",
      "execution_count": null,
      "id": "345848ac",
      "metadata": {
        "id": "345848ac"
      },
      "outputs": [],
      "source": [
        "df['normalized-losses'].fillna(df['normalized-losses'].median(),inplace=True)"
      ]
    },
    {
      "cell_type": "code",
      "execution_count": null,
      "id": "6555a3fa",
      "metadata": {
        "id": "6555a3fa",
        "outputId": "58a2aff6-c271-4010-c353-bb9523ed50ad"
      },
      "outputs": [
        {
          "data": {
            "text/plain": [
              "dtype('O')"
            ]
          },
          "execution_count": 219,
          "metadata": {},
          "output_type": "execute_result"
        }
      ],
      "source": [
        "df['horsepower'].dtypes ### as the horse power is a Object dtypes converting into int dtype"
      ]
    },
    {
      "cell_type": "code",
      "execution_count": null,
      "id": "85138cad",
      "metadata": {
        "id": "85138cad"
      },
      "outputs": [],
      "source": [
        "df['horsepower']=df['horsepower'].astype(float) ## converted to float values"
      ]
    },
    {
      "cell_type": "code",
      "execution_count": null,
      "id": "9e8fd4a2",
      "metadata": {
        "scrolled": false,
        "id": "9e8fd4a2",
        "outputId": "d803e4b2-6b6e-40de-cba0-2bb6f8f84510"
      },
      "outputs": [
        {
          "data": {
            "text/plain": [
              "<Axes: >"
            ]
          },
          "execution_count": 221,
          "metadata": {},
          "output_type": "execute_result"
        },
        {
          "data": {
            "image/png": "[encoded data removed]",
            "text/plain": [
              "<Figure size 640x480 with 1 Axes>"
            ]
          },
          "metadata": {},
          "output_type": "display_data"
        }
      ],
      "source": [
        "sns.boxplot(df['horsepower']) ## we have ouliters, filling with median"
      ]
    },
    {
      "cell_type": "code",
      "execution_count": null,
      "id": "99767e82",
      "metadata": {
        "id": "99767e82"
      },
      "outputs": [],
      "source": [
        "df['horsepower'].fillna(df['horsepower'].median(),inplace=True)"
      ]
    },
    {
      "cell_type": "code",
      "execution_count": null,
      "id": "8ab68ec2",
      "metadata": {
        "id": "8ab68ec2",
        "outputId": "97d9c16f-a82d-46eb-c424-a047e4e11547"
      },
      "outputs": [
        {
          "data": {
            "text/plain": [
              "dtype('O')"
            ]
          },
          "execution_count": 223,
          "metadata": {},
          "output_type": "execute_result"
        }
      ],
      "source": [
        "df['peak-rpm'].dtypes ## Peak-rpm should be a int values. but the data type showing is Object, so need to convetr to flot or int"
      ]
    },
    {
      "cell_type": "code",
      "execution_count": null,
      "id": "192cb8f1",
      "metadata": {
        "id": "192cb8f1"
      },
      "outputs": [],
      "source": [
        "df['peak-rpm']=df['peak-rpm'].astype(float) ## Converted to float"
      ]
    },
    {
      "cell_type": "code",
      "execution_count": null,
      "id": "a9b1449c",
      "metadata": {
        "id": "a9b1449c",
        "outputId": "512bda08-42fe-42f9-c7f2-69033f954351"
      },
      "outputs": [
        {
          "data": {
            "text/plain": [
              "<Axes: >"
            ]
          },
          "execution_count": 225,
          "metadata": {},
          "output_type": "execute_result"
        },
        {
          "data": {
            "image/png": "[encoded data removed]",
            "text/plain": [
              "<Figure size 640x480 with 1 Axes>"
            ]
          },
          "metadata": {},
          "output_type": "display_data"
        }
      ],
      "source": [
        "sns.boxplot(df['peak-rpm']) ## we have ouliers, filling with median."
      ]
    },
    {
      "cell_type": "code",
      "execution_count": null,
      "id": "f85b0b50",
      "metadata": {
        "id": "f85b0b50"
      },
      "outputs": [],
      "source": [
        "df['peak-rpm'].fillna(df['peak-rpm'].median(),inplace=True)"
      ]
    },
    {
      "cell_type": "markdown",
      "id": "3843b7f0",
      "metadata": {
        "id": "3843b7f0"
      },
      "source": [
        "#### As bore and strike are in values but they are in object data type changing their dtype to int"
      ]
    },
    {
      "cell_type": "code",
      "execution_count": null,
      "id": "e292dcb7",
      "metadata": {
        "id": "e292dcb7",
        "outputId": "bdcb7ae7-a9b8-423d-9e75-970a3de910e5"
      },
      "outputs": [
        {
          "data": {
            "text/plain": [
              "{'3.62': 23,\n",
              " '3.19': 20,\n",
              " '3.15': 15,\n",
              " '3.03': 12,\n",
              " '2.97': 12,\n",
              " '3.46': 9,\n",
              " '3.31': 8,\n",
              " '3.78': 8,\n",
              " '3.43': 8,\n",
              " '3.27': 7,\n",
              " '2.91': 7,\n",
              " '3.39': 6,\n",
              " '3.54': 6,\n",
              " '3.05': 6,\n",
              " '3.58': 6,\n",
              " '3.7': 5,\n",
              " '3.01': 5,\n",
              " '3.35': 4,\n",
              " '?': 4,\n",
              " '3.17': 3,\n",
              " '3.59': 3,\n",
              " '3.74': 3,\n",
              " '3.47': 2,\n",
              " '3.94': 2,\n",
              " '3.24': 2,\n",
              " '3.13': 2,\n",
              " '3.63': 2,\n",
              " '3.5': 2,\n",
              " '3.8': 2,\n",
              " '3.33': 2,\n",
              " '2.54': 1,\n",
              " '3.08': 1,\n",
              " '3.61': 1,\n",
              " '3.34': 1,\n",
              " '3.6': 1,\n",
              " '2.92': 1,\n",
              " '3.76': 1,\n",
              " '2.68': 1,\n",
              " '2.99': 1}"
            ]
          },
          "execution_count": 227,
          "metadata": {},
          "output_type": "execute_result"
        }
      ],
      "source": [
        "df['bore'].value_counts().to_dict() ### '?' values change to nan values"
      ]
    },
    {
      "cell_type": "code",
      "execution_count": null,
      "id": "df68481b",
      "metadata": {
        "id": "df68481b",
        "outputId": "d4ce2e7d-5405-4e2d-c0cc-2c564a231cc0"
      },
      "outputs": [
        {
          "data": {
            "text/plain": [
              "4"
            ]
          },
          "execution_count": 228,
          "metadata": {},
          "output_type": "execute_result"
        }
      ],
      "source": [
        "df['bore'].replace({'?':np.nan},inplace=True)\n",
        "df['bore'].isnull().sum()"
      ]
    },
    {
      "cell_type": "code",
      "execution_count": null,
      "id": "3a7150fc",
      "metadata": {
        "id": "3a7150fc"
      },
      "outputs": [],
      "source": [
        "df['bore']=df['bore'].astype(float)"
      ]
    },
    {
      "cell_type": "code",
      "execution_count": null,
      "id": "2aa5eec0",
      "metadata": {
        "scrolled": false,
        "id": "2aa5eec0",
        "outputId": "ce505c67-ed50-4515-f3d1-a9c9b0fe7ac8"
      },
      "outputs": [
        {
          "data": {
            "text/plain": [
              "<Axes: >"
            ]
          },
          "execution_count": 230,
          "metadata": {},
          "output_type": "execute_result"
        },
        {
          "data": {
            "image/png": "[encoded data removed]",
            "text/plain": [
              "<Figure size 640x480 with 1 Axes>"
            ]
          },
          "metadata": {},
          "output_type": "display_data"
        }
      ],
      "source": [
        "sns.boxplot(df['bore'])   ### as we dont have any ouliter we can fill with mean values."
      ]
    },
    {
      "cell_type": "code",
      "execution_count": null,
      "id": "3f486f41",
      "metadata": {
        "id": "3f486f41",
        "outputId": "2d323833-cbf5-4d36-9ceb-49b217b51f55"
      },
      "outputs": [
        {
          "data": {
            "text/plain": [
              "0"
            ]
          },
          "execution_count": 231,
          "metadata": {},
          "output_type": "execute_result"
        }
      ],
      "source": [
        "df['bore'].fillna(df['bore'].median(),inplace=True)\n",
        "df['bore'].isnull().sum()"
      ]
    },
    {
      "cell_type": "code",
      "execution_count": null,
      "id": "87dc2a56",
      "metadata": {
        "id": "87dc2a56"
      },
      "outputs": [],
      "source": [
        "df['stroke'].replace({'?':np.nan},inplace=True)\n",
        "df['stroke'].isnull().sum()\n",
        "df['stroke']=df['stroke'].astype(float)"
      ]
    },
    {
      "cell_type": "code",
      "execution_count": null,
      "id": "6852d2d7",
      "metadata": {
        "id": "6852d2d7",
        "outputId": "916680a7-f74d-4c98-ab41-6bdb6bd94209"
      },
      "outputs": [
        {
          "data": {
            "text/plain": [
              "<Axes: >"
            ]
          },
          "execution_count": 233,
          "metadata": {},
          "output_type": "execute_result"
        },
        {
          "data": {
            "image/png": "[encoded data removed]",
            "text/plain": [
              "<Figure size 640x480 with 1 Axes>"
            ]
          },
          "metadata": {},
          "output_type": "display_data"
        }
      ],
      "source": [
        "sns.boxplot(df['stroke']) ## as we have ouliers filling with median"
      ]
    },
    {
      "cell_type": "code",
      "execution_count": null,
      "id": "de6a3527",
      "metadata": {
        "id": "de6a3527",
        "outputId": "cb1531d4-4c3e-49d2-9488-38005e16cc78"
      },
      "outputs": [
        {
          "data": {
            "text/plain": [
              "0"
            ]
          },
          "execution_count": 234,
          "metadata": {},
          "output_type": "execute_result"
        }
      ],
      "source": [
        "df['stroke'].fillna(df['stroke'].median(),inplace=True)\n",
        "df['stroke'].isnull().sum()"
      ]
    },
    {
      "cell_type": "code",
      "execution_count": null,
      "id": "87f6e8e6",
      "metadata": {
        "id": "87f6e8e6"
      },
      "outputs": [],
      "source": [
        "df=df.replace({'?':np.nan})"
      ]
    },
    {
      "cell_type": "code",
      "execution_count": null,
      "id": "362b2434",
      "metadata": {
        "id": "362b2434",
        "outputId": "feb1d41b-da4c-4d3a-99ca-201cb66741b0"
      },
      "outputs": [
        {
          "data": {
            "text/plain": [
              "symboling            0\n",
              "normalized-losses    0\n",
              "make                 0\n",
              "fuel-type            0\n",
              "aspiration           0\n",
              "num-of-doors         2\n",
              "body-style           0\n",
              "drive-wheels         0\n",
              "engine-location      0\n",
              "wheel-base           0\n",
              "length               0\n",
              "width                0\n",
              "height               0\n",
              "curb-weight          0\n",
              "engine-type          0\n",
              "num-of-cylinders     0\n",
              "engine-size          0\n",
              "fuel-system          0\n",
              "bore                 0\n",
              "stroke               0\n",
              "compression-ratio    0\n",
              "horsepower           0\n",
              "peak-rpm             0\n",
              "city-mpg             0\n",
              "highway-mpg          0\n",
              "price                4\n",
              "dtype: int64"
            ]
          },
          "execution_count": 236,
          "metadata": {},
          "output_type": "execute_result"
        }
      ],
      "source": [
        "df.isnull().sum()"
      ]
    },
    {
      "cell_type": "code",
      "execution_count": null,
      "id": "0449bc8b",
      "metadata": {
        "id": "0449bc8b"
      },
      "outputs": [],
      "source": [
        "df['num-of-doors'].fillna(df['num-of-doors'].mode()[0],inplace=True)"
      ]
    },
    {
      "cell_type": "code",
      "execution_count": null,
      "id": "14e7b639",
      "metadata": {
        "id": "14e7b639",
        "outputId": "f7fad557-1803-416e-e4ea-6bf75418c32f"
      },
      "outputs": [
        {
          "name": "stdout",
          "output_type": "stream",
          "text": [
            "<class 'pandas.core.frame.DataFrame'>\n",
            "RangeIndex: 205 entries, 0 to 204\n",
            "Data columns (total 26 columns):\n",
            " #   Column             Non-Null Count  Dtype  \n",
            "---  ------             --------------  -----  \n",
            " 0   symboling          205 non-null    int64  \n",
            " 1   normalized-losses  205 non-null    float64\n",
            " 2   make               205 non-null    object \n",
            " 3   fuel-type          205 non-null    object \n",
            " 4   aspiration         205 non-null    object \n",
            " 5   num-of-doors       205 non-null    object \n",
            " 6   body-style         205 non-null    object \n",
            " 7   drive-wheels       205 non-null    object \n",
            " 8   engine-location    205 non-null    object \n",
            " 9   wheel-base         205 non-null    float64\n",
            " 10  length             205 non-null    float64\n",
            " 11  width              205 non-null    float64\n",
            " 12  height             205 non-null    float64\n",
            " 13  curb-weight        205 non-null    int64  \n",
            " 14  engine-type        205 non-null    object \n",
            " 15  num-of-cylinders   205 non-null    object \n",
            " 16  engine-size        205 non-null    int64  \n",
            " 17  fuel-system        205 non-null    object \n",
            " 18  bore               205 non-null    float64\n",
            " 19  stroke             205 non-null    float64\n",
            " 20  compression-ratio  205 non-null    float64\n",
            " 21  horsepower         205 non-null    float64\n",
            " 22  peak-rpm           205 non-null    float64\n",
            " 23  city-mpg           205 non-null    int64  \n",
            " 24  highway-mpg        205 non-null    int64  \n",
            " 25  price              201 non-null    object \n",
            "dtypes: float64(10), int64(5), object(11)\n",
            "memory usage: 41.8+ KB\n"
          ]
        }
      ],
      "source": [
        "df.info()"
      ]
    },
    {
      "cell_type": "code",
      "execution_count": null,
      "id": "6b01bd39",
      "metadata": {
        "scrolled": true,
        "id": "6b01bd39",
        "outputId": "0e6dcd4f-f1d6-430a-e3cc-7fa56c2a72e5"
      },
      "outputs": [
        {
          "data": {
            "text/plain": [
              "<Axes: >"
            ]
          },
          "execution_count": 242,
          "metadata": {},
          "output_type": "execute_result"
        },
        {
          "data": {
            "image/png": "[encoded data removed]",
            "text/plain": [
              "<Figure size 640x480 with 1 Axes>"
            ]
          },
          "metadata": {},
          "output_type": "display_data"
        }
      ],
      "source": [
        " sns.boxplot(df['price']) ## we have ouliers in the cloumn so filling wih median values."
      ]
    },
    {
      "cell_type": "code",
      "execution_count": null,
      "id": "52b8c738",
      "metadata": {
        "id": "52b8c738",
        "outputId": "035b6f73-c5f8-4d43-eaa1-9681f1b29db2"
      },
      "outputs": [
        {
          "name": "stdout",
          "output_type": "stream",
          "text": [
            "object\n"
          ]
        }
      ],
      "source": [
        "print(df['price'].dtype)"
      ]
    },
    {
      "cell_type": "code",
      "execution_count": null,
      "id": "0e08d30a",
      "metadata": {
        "id": "0e08d30a"
      },
      "outputs": [],
      "source": [
        "df['price'].fillna(df['price'].median(),inplace=True)"
      ]
    },
    {
      "cell_type": "code",
      "execution_count": null,
      "id": "b712ef5f",
      "metadata": {
        "scrolled": true,
        "id": "b712ef5f",
        "outputId": "9c857892-6fae-46b6-98ea-59b4b4bab8af"
      },
      "outputs": [
        {
          "name": "stdout",
          "output_type": "stream",
          "text": [
            "0      13495\n",
            "1      16500\n",
            "2      16500\n",
            "3      13950\n",
            "4      17450\n",
            "       ...  \n",
            "200    16845\n",
            "201    19045\n",
            "202    21485\n",
            "203    22470\n",
            "204    22625\n",
            "Name: price, Length: 205, dtype: int32\n"
          ]
        }
      ],
      "source": [
        "df['price']=df['price'].astype(int)\n",
        "print(df['price'])"
      ]
    },
    {
      "cell_type": "code",
      "execution_count": null,
      "id": "0d3a716a",
      "metadata": {
        "scrolled": false,
        "id": "0d3a716a",
        "outputId": "30257cc6-8ea1-4862-b524-8bea63e62768"
      },
      "outputs": [
        {
          "name": "stderr",
          "output_type": "stream",
          "text": [
            "C:\\Users\\DELL\\AppData\\Local\\Temp\\ipykernel_4796\\444587821.py:1: UserWarning: \n",
            "\n",
            "`distplot` is a deprecated function and will be removed in seaborn v0.14.0.\n",
            "\n",
            "Please adapt your code to use either `displot` (a figure-level function with\n",
            "similar flexibility) or `histplot` (an axes-level function for histograms).\n",
            "\n",
            "For a guide to updating your code to use the new functions, please see\n",
            "https://gist.github.com/mwaskom/de44147ed2974457ad6372750bbe5751\n",
            "\n",
            "  sns.distplot(df['price'])\n"
          ]
        },
        {
          "data": {
            "text/plain": [
              "<Axes: xlabel='price', ylabel='Density'>"
            ]
          },
          "execution_count": 246,
          "metadata": {},
          "output_type": "execute_result"
        },
        {
          "data": {
            "image/png": "[encoded data removed]",
            "text/plain": [
              "<Figure size 640x480 with 1 Axes>"
            ]
          },
          "metadata": {},
          "output_type": "display_data"
        }
      ],
      "source": [
        "sns.distplot(df['price'])"
      ]
    },
    {
      "cell_type": "code",
      "execution_count": null,
      "id": "33079a75",
      "metadata": {
        "id": "33079a75"
      },
      "outputs": [],
      "source": [
        "p=sorted(df['price'])\n",
        "q1,q3=np.percentile(p,[25,75])\n",
        "iqr=q3-q1\n",
        "L_b=q1-(1.5*(iqr))\n",
        "U_b=q3+(1.5*(iqr))\n",
        "below=df['price'] > L_b\n",
        "above=df['price'] < U_b\n",
        "df=df[below & above]"
      ]
    },
    {
      "cell_type": "code",
      "execution_count": null,
      "id": "656fbdcc",
      "metadata": {
        "scrolled": false,
        "id": "656fbdcc",
        "outputId": "cb40a4a9-71ce-4a90-8b83-bfb18da9b1fb"
      },
      "outputs": [
        {
          "data": {
            "text/plain": [
              "<Axes: >"
            ]
          },
          "execution_count": 248,
          "metadata": {},
          "output_type": "execute_result"
        },
        {
          "data": {
            "image/png": "[encoded data removed]",
            "text/plain": [
              "<Figure size 640x480 with 1 Axes>"
            ]
          },
          "metadata": {},
          "output_type": "display_data"
        }
      ],
      "source": [
        " sns.boxplot(df['price'])"
      ]
    },
    {
      "cell_type": "code",
      "execution_count": null,
      "id": "5cc91929",
      "metadata": {
        "id": "5cc91929",
        "outputId": "dca0da6a-a239-4a49-909d-f69da0b6eb4f"
      },
      "outputs": [
        {
          "name": "stderr",
          "output_type": "stream",
          "text": [
            "C:\\Users\\DELL\\AppData\\Local\\Temp\\ipykernel_4796\\444587821.py:1: UserWarning: \n",
            "\n",
            "`distplot` is a deprecated function and will be removed in seaborn v0.14.0.\n",
            "\n",
            "Please adapt your code to use either `displot` (a figure-level function with\n",
            "similar flexibility) or `histplot` (an axes-level function for histograms).\n",
            "\n",
            "For a guide to updating your code to use the new functions, please see\n",
            "https://gist.github.com/mwaskom/de44147ed2974457ad6372750bbe5751\n",
            "\n",
            "  sns.distplot(df['price'])\n"
          ]
        },
        {
          "data": {
            "text/plain": [
              "<Axes: xlabel='price', ylabel='Density'>"
            ]
          },
          "execution_count": 249,
          "metadata": {},
          "output_type": "execute_result"
        },
        {
          "data": {
            "image/png": "[encoded data removed]",
            "text/plain": [
              "<Figure size 640x480 with 1 Axes>"
            ]
          },
          "metadata": {},
          "output_type": "display_data"
        }
      ],
      "source": [
        "sns.distplot(df['price'])"
      ]
    },
    {
      "cell_type": "code",
      "execution_count": null,
      "id": "1f358b6e",
      "metadata": {
        "id": "1f358b6e",
        "outputId": "f791ab20-e9f8-4ea5-ef81-4ea94dd6b70c"
      },
      "outputs": [
        {
          "data": {
            "text/plain": [
              "(191, 26)"
            ]
          },
          "execution_count": 250,
          "metadata": {},
          "output_type": "execute_result"
        }
      ],
      "source": [
        "df.shape"
      ]
    },
    {
      "cell_type": "code",
      "execution_count": null,
      "id": "e84a8701",
      "metadata": {
        "id": "e84a8701",
        "outputId": "0db9d498-6bec-452e-983d-46f2ebb0c0ef"
      },
      "outputs": [
        {
          "data": {
            "text/plain": [
              "0"
            ]
          },
          "execution_count": 251,
          "metadata": {},
          "output_type": "execute_result"
        }
      ],
      "source": [
        "df.duplicated().sum() # we can see there are no duplicate values."
      ]
    },
    {
      "cell_type": "code",
      "execution_count": null,
      "id": "431fa331",
      "metadata": {
        "id": "431fa331"
      },
      "outputs": [],
      "source": [
        "X=df.drop('price',axis=1)\n",
        "y=df['price']"
      ]
    },
    {
      "cell_type": "code",
      "execution_count": null,
      "id": "0f0b8d67",
      "metadata": {
        "scrolled": true,
        "id": "0f0b8d67",
        "outputId": "ec7b67a0-0669-4ade-e858-cd7e3e8e0e3e"
      },
      "outputs": [
        {
          "data": {
            "text/html": [
              "<div>\n",
              "<style scoped>\n",
              "    .dataframe tbody tr th:only-of-type {\n",
              "        vertical-align: middle;\n",
              "    }\n",
              "\n",
              "    .dataframe tbody tr th {\n",
              "        vertical-align: top;\n",
              "    }\n",
              "\n",
              "    .dataframe thead th {\n",
              "        text-align: right;\n",
              "    }\n",
              "</style>\n",
              "<table border=\"1\" class=\"dataframe\">\n",
              "  <thead>\n",
              "    <tr style=\"text-align: right;\">\n",
              "      <th></th>\n",
              "      <th>make</th>\n",
              "      <th>fuel-type</th>\n",
              "      <th>aspiration</th>\n",
              "      <th>num-of-doors</th>\n",
              "      <th>body-style</th>\n",
              "      <th>drive-wheels</th>\n",
              "      <th>engine-location</th>\n",
              "      <th>engine-type</th>\n",
              "      <th>num-of-cylinders</th>\n",
              "      <th>fuel-system</th>\n",
              "    </tr>\n",
              "  </thead>\n",
              "  <tbody>\n",
              "    <tr>\n",
              "      <th>0</th>\n",
              "      <td>alfa-romero</td>\n",
              "      <td>gas</td>\n",
              "      <td>std</td>\n",
              "      <td>two</td>\n",
              "      <td>convertible</td>\n",
              "      <td>rwd</td>\n",
              "      <td>front</td>\n",
              "      <td>dohc</td>\n",
              "      <td>four</td>\n",
              "      <td>mpfi</td>\n",
              "    </tr>\n",
              "    <tr>\n",
              "      <th>1</th>\n",
              "      <td>alfa-romero</td>\n",
              "      <td>gas</td>\n",
              "      <td>std</td>\n",
              "      <td>two</td>\n",
              "      <td>convertible</td>\n",
              "      <td>rwd</td>\n",
              "      <td>front</td>\n",
              "      <td>dohc</td>\n",
              "      <td>four</td>\n",
              "      <td>mpfi</td>\n",
              "    </tr>\n",
              "    <tr>\n",
              "      <th>2</th>\n",
              "      <td>alfa-romero</td>\n",
              "      <td>gas</td>\n",
              "      <td>std</td>\n",
              "      <td>two</td>\n",
              "      <td>hatchback</td>\n",
              "      <td>rwd</td>\n",
              "      <td>front</td>\n",
              "      <td>ohcv</td>\n",
              "      <td>six</td>\n",
              "      <td>mpfi</td>\n",
              "    </tr>\n",
              "    <tr>\n",
              "      <th>3</th>\n",
              "      <td>audi</td>\n",
              "      <td>gas</td>\n",
              "      <td>std</td>\n",
              "      <td>four</td>\n",
              "      <td>sedan</td>\n",
              "      <td>fwd</td>\n",
              "      <td>front</td>\n",
              "      <td>ohc</td>\n",
              "      <td>four</td>\n",
              "      <td>mpfi</td>\n",
              "    </tr>\n",
              "    <tr>\n",
              "      <th>4</th>\n",
              "      <td>audi</td>\n",
              "      <td>gas</td>\n",
              "      <td>std</td>\n",
              "      <td>four</td>\n",
              "      <td>sedan</td>\n",
              "      <td>4wd</td>\n",
              "      <td>front</td>\n",
              "      <td>ohc</td>\n",
              "      <td>five</td>\n",
              "      <td>mpfi</td>\n",
              "    </tr>\n",
              "    <tr>\n",
              "      <th>...</th>\n",
              "      <td>...</td>\n",
              "      <td>...</td>\n",
              "      <td>...</td>\n",
              "      <td>...</td>\n",
              "      <td>...</td>\n",
              "      <td>...</td>\n",
              "      <td>...</td>\n",
              "      <td>...</td>\n",
              "      <td>...</td>\n",
              "      <td>...</td>\n",
              "    </tr>\n",
              "    <tr>\n",
              "      <th>200</th>\n",
              "      <td>volvo</td>\n",
              "      <td>gas</td>\n",
              "      <td>std</td>\n",
              "      <td>four</td>\n",
              "      <td>sedan</td>\n",
              "      <td>rwd</td>\n",
              "      <td>front</td>\n",
              "      <td>ohc</td>\n",
              "      <td>four</td>\n",
              "      <td>mpfi</td>\n",
              "    </tr>\n",
              "    <tr>\n",
              "      <th>201</th>\n",
              "      <td>volvo</td>\n",
              "      <td>gas</td>\n",
              "      <td>turbo</td>\n",
              "      <td>four</td>\n",
              "      <td>sedan</td>\n",
              "      <td>rwd</td>\n",
              "      <td>front</td>\n",
              "      <td>ohc</td>\n",
              "      <td>four</td>\n",
              "      <td>mpfi</td>\n",
              "    </tr>\n",
              "    <tr>\n",
              "      <th>202</th>\n",
              "      <td>volvo</td>\n",
              "      <td>gas</td>\n",
              "      <td>std</td>\n",
              "      <td>four</td>\n",
              "      <td>sedan</td>\n",
              "      <td>rwd</td>\n",
              "      <td>front</td>\n",
              "      <td>ohcv</td>\n",
              "      <td>six</td>\n",
              "      <td>mpfi</td>\n",
              "    </tr>\n",
              "    <tr>\n",
              "      <th>203</th>\n",
              "      <td>volvo</td>\n",
              "      <td>diesel</td>\n",
              "      <td>turbo</td>\n",
              "      <td>four</td>\n",
              "      <td>sedan</td>\n",
              "      <td>rwd</td>\n",
              "      <td>front</td>\n",
              "      <td>ohc</td>\n",
              "      <td>six</td>\n",
              "      <td>idi</td>\n",
              "    </tr>\n",
              "    <tr>\n",
              "      <th>204</th>\n",
              "      <td>volvo</td>\n",
              "      <td>gas</td>\n",
              "      <td>turbo</td>\n",
              "      <td>four</td>\n",
              "      <td>sedan</td>\n",
              "      <td>rwd</td>\n",
              "      <td>front</td>\n",
              "      <td>ohc</td>\n",
              "      <td>four</td>\n",
              "      <td>mpfi</td>\n",
              "    </tr>\n",
              "  </tbody>\n",
              "</table>\n",
              "<p>191 rows × 10 columns</p>\n",
              "</div>"
            ],
            "text/plain": [
              "            make fuel-type aspiration num-of-doors   body-style drive-wheels  \\\n",
              "0    alfa-romero       gas        std          two  convertible          rwd   \n",
              "1    alfa-romero       gas        std          two  convertible          rwd   \n",
              "2    alfa-romero       gas        std          two    hatchback          rwd   \n",
              "3           audi       gas        std         four        sedan          fwd   \n",
              "4           audi       gas        std         four        sedan          4wd   \n",
              "..           ...       ...        ...          ...          ...          ...   \n",
              "200        volvo       gas        std         four        sedan          rwd   \n",
              "201        volvo       gas      turbo         four        sedan          rwd   \n",
              "202        volvo       gas        std         four        sedan          rwd   \n",
              "203        volvo    diesel      turbo         four        sedan          rwd   \n",
              "204        volvo       gas      turbo         four        sedan          rwd   \n",
              "\n",
              "    engine-location engine-type num-of-cylinders fuel-system  \n",
              "0             front        dohc             four        mpfi  \n",
              "1             front        dohc             four        mpfi  \n",
              "2             front        ohcv              six        mpfi  \n",
              "3             front         ohc             four        mpfi  \n",
              "4             front         ohc             five        mpfi  \n",
              "..              ...         ...              ...         ...  \n",
              "200           front         ohc             four        mpfi  \n",
              "201           front         ohc             four        mpfi  \n",
              "202           front        ohcv              six        mpfi  \n",
              "203           front         ohc              six         idi  \n",
              "204           front         ohc             four        mpfi  \n",
              "\n",
              "[191 rows x 10 columns]"
            ]
          },
          "execution_count": 253,
          "metadata": {},
          "output_type": "execute_result"
        }
      ],
      "source": [
        "o_b=X.select_dtypes(include=['object'])\n",
        "o_b"
      ]
    },
    {
      "cell_type": "code",
      "execution_count": null,
      "id": "c2d5faee",
      "metadata": {
        "id": "c2d5faee",
        "outputId": "87d79514-cfb6-4024-b0ce-50b8b8533189"
      },
      "outputs": [
        {
          "data": {
            "text/html": [
              "<style>#sk-container-id-10 {color: black;}#sk-container-id-10 pre{padding: 0;}#sk-container-id-10 div.sk-toggleable {background-color: white;}#sk-container-id-10 label.sk-toggleable__label {cursor: pointer;display: block;width: 100%;margin-bottom: 0;padding: 0.3em;box-sizing: border-box;text-align: center;}#sk-container-id-10 label.sk-toggleable__label-arrow:before {content: \"▸\";float: left;margin-right: 0.25em;color: #696969;}#sk-container-id-10 label.sk-toggleable__label-arrow:hover:before {color: black;}#sk-container-id-10 div.sk-estimator:hover label.sk-toggleable__label-arrow:before {color: black;}#sk-container-id-10 div.sk-toggleable__content {max-height: 0;max-width: 0;overflow: hidden;text-align: left;background-color: #f0f8ff;}#sk-container-id-10 div.sk-toggleable__content pre {margin: 0.2em;color: black;border-radius: 0.25em;background-color: #f0f8ff;}#sk-container-id-10 input.sk-toggleable__control:checked~div.sk-toggleable__content {max-height: 200px;max-width: 100%;overflow: auto;}#sk-container-id-10 input.sk-toggleable__control:checked~label.sk-toggleable__label-arrow:before {content: \"▾\";}#sk-container-id-10 div.sk-estimator input.sk-toggleable__control:checked~label.sk-toggleable__label {background-color: #d4ebff;}#sk-container-id-10 div.sk-label input.sk-toggleable__control:checked~label.sk-toggleable__label {background-color: #d4ebff;}#sk-container-id-10 input.sk-hidden--visually {border: 0;clip: rect(1px 1px 1px 1px);clip: rect(1px, 1px, 1px, 1px);height: 1px;margin: -1px;overflow: hidden;padding: 0;position: absolute;width: 1px;}#sk-container-id-10 div.sk-estimator {font-family: monospace;background-color: #f0f8ff;border: 1px dotted black;border-radius: 0.25em;box-sizing: border-box;margin-bottom: 0.5em;}#sk-container-id-10 div.sk-estimator:hover {background-color: #d4ebff;}#sk-container-id-10 div.sk-parallel-item::after {content: \"\";width: 100%;border-bottom: 1px solid gray;flex-grow: 1;}#sk-container-id-10 div.sk-label:hover label.sk-toggleable__label {background-color: #d4ebff;}#sk-container-id-10 div.sk-serial::before {content: \"\";position: absolute;border-left: 1px solid gray;box-sizing: border-box;top: 0;bottom: 0;left: 50%;z-index: 0;}#sk-container-id-10 div.sk-serial {display: flex;flex-direction: column;align-items: center;background-color: white;padding-right: 0.2em;padding-left: 0.2em;position: relative;}#sk-container-id-10 div.sk-item {position: relative;z-index: 1;}#sk-container-id-10 div.sk-parallel {display: flex;align-items: stretch;justify-content: center;background-color: white;position: relative;}#sk-container-id-10 div.sk-item::before, #sk-container-id-10 div.sk-parallel-item::before {content: \"\";position: absolute;border-left: 1px solid gray;box-sizing: border-box;top: 0;bottom: 0;left: 50%;z-index: -1;}#sk-container-id-10 div.sk-parallel-item {display: flex;flex-direction: column;z-index: 1;position: relative;background-color: white;}#sk-container-id-10 div.sk-parallel-item:first-child::after {align-self: flex-end;width: 50%;}#sk-container-id-10 div.sk-parallel-item:last-child::after {align-self: flex-start;width: 50%;}#sk-container-id-10 div.sk-parallel-item:only-child::after {width: 0;}#sk-container-id-10 div.sk-dashed-wrapped {border: 1px dashed gray;margin: 0 0.4em 0.5em 0.4em;box-sizing: border-box;padding-bottom: 0.4em;background-color: white;}#sk-container-id-10 div.sk-label label {font-family: monospace;font-weight: bold;display: inline-block;line-height: 1.2em;}#sk-container-id-10 div.sk-label-container {text-align: center;}#sk-container-id-10 div.sk-container {/* jupyter's `normalize.less` sets `[hidden] { display: none; }` but bootstrap.min.css set `[hidden] { display: none !important; }` so we also need the `!important` here to be able to override the default hidden behavior on the sphinx rendered scikit-learn.org. See: https://github.com/scikit-learn/scikit-learn/issues/21755 */display: inline-block !important;position: relative;}#sk-container-id-10 div.sk-text-repr-fallback {display: none;}</style><div id=\"sk-container-id-10\" class=\"sk-top-container\"><div class=\"sk-text-repr-fallback\"><pre>OneHotEncoder()</pre><b>In a Jupyter environment, please rerun this cell to show the HTML representation or trust the notebook. <br />On GitHub, the HTML representation is unable to render, please try loading this page with nbviewer.org.</b></div><div class=\"sk-container\" hidden><div class=\"sk-item\"><div class=\"sk-estimator sk-toggleable\"><input class=\"sk-toggleable__control sk-hidden--visually\" id=\"sk-estimator-id-10\" type=\"checkbox\" checked><label for=\"sk-estimator-id-10\" class=\"sk-toggleable__label sk-toggleable__label-arrow\">OneHotEncoder</label><div class=\"sk-toggleable__content\"><pre>OneHotEncoder()</pre></div></div></div></div></div>"
            ],
            "text/plain": [
              "OneHotEncoder()"
            ]
          },
          "execution_count": 254,
          "metadata": {},
          "output_type": "execute_result"
        }
      ],
      "source": [
        "one_hot=OneHotEncoder()\n",
        "one_hot"
      ]
    },
    {
      "cell_type": "code",
      "execution_count": null,
      "id": "ea6a3f7c",
      "metadata": {
        "id": "ea6a3f7c",
        "outputId": "d061c4c2-8200-46d8-e4e1-6655fa0b0135"
      },
      "outputs": [
        {
          "data": {
            "text/plain": [
              "array([[1.0e+00, 0.0e+00, 0.0e+00, ..., 5.0e+03, 2.1e+01, 2.7e+01],\n",
              "       [1.0e+00, 0.0e+00, 0.0e+00, ..., 5.0e+03, 2.1e+01, 2.7e+01],\n",
              "       [1.0e+00, 0.0e+00, 0.0e+00, ..., 5.0e+03, 1.9e+01, 2.6e+01],\n",
              "       ...,\n",
              "       [0.0e+00, 0.0e+00, 0.0e+00, ..., 5.5e+03, 1.8e+01, 2.3e+01],\n",
              "       [0.0e+00, 0.0e+00, 0.0e+00, ..., 4.8e+03, 2.6e+01, 2.7e+01],\n",
              "       [0.0e+00, 0.0e+00, 0.0e+00, ..., 5.4e+03, 1.9e+01, 2.5e+01]])"
            ]
          },
          "execution_count": 255,
          "metadata": {},
          "output_type": "execute_result"
        }
      ],
      "source": [
        "o_b1=['make','fuel-type','aspiration','num-of-doors','body-style','drive-wheels','engine-location','engine-type','num-of-cylinders','fuel-system']\n",
        "transformer=ColumnTransformer([('one_hot',\n",
        "                               one_hot,\n",
        "                               o_b1)],\n",
        "                             remainder='passthrough')\n",
        "transformed_X=transformer.fit_transform(X)\n",
        "transformed_X"
      ]
    },
    {
      "cell_type": "code",
      "execution_count": null,
      "id": "c461b524",
      "metadata": {
        "id": "c461b524",
        "outputId": "6e40cb7d-613e-4e1b-f04c-aecbd6b58279"
      },
      "outputs": [
        {
          "data": {
            "text/html": [
              "<div>\n",
              "<style scoped>\n",
              "    .dataframe tbody tr th:only-of-type {\n",
              "        vertical-align: middle;\n",
              "    }\n",
              "\n",
              "    .dataframe tbody tr th {\n",
              "        vertical-align: top;\n",
              "    }\n",
              "\n",
              "    .dataframe thead th {\n",
              "        text-align: right;\n",
              "    }\n",
              "</style>\n",
              "<table border=\"1\" class=\"dataframe\">\n",
              "  <thead>\n",
              "    <tr style=\"text-align: right;\">\n",
              "      <th></th>\n",
              "      <th>symboling</th>\n",
              "      <th>normalized-losses</th>\n",
              "      <th>make</th>\n",
              "      <th>fuel-type</th>\n",
              "      <th>aspiration</th>\n",
              "      <th>num-of-doors</th>\n",
              "      <th>body-style</th>\n",
              "      <th>drive-wheels</th>\n",
              "      <th>engine-location</th>\n",
              "      <th>wheel-base</th>\n",
              "      <th>...</th>\n",
              "      <th>num-of-cylinders</th>\n",
              "      <th>engine-size</th>\n",
              "      <th>fuel-system</th>\n",
              "      <th>bore</th>\n",
              "      <th>stroke</th>\n",
              "      <th>compression-ratio</th>\n",
              "      <th>horsepower</th>\n",
              "      <th>peak-rpm</th>\n",
              "      <th>city-mpg</th>\n",
              "      <th>highway-mpg</th>\n",
              "    </tr>\n",
              "  </thead>\n",
              "  <tbody>\n",
              "    <tr>\n",
              "      <th>0</th>\n",
              "      <td>3</td>\n",
              "      <td>115.0</td>\n",
              "      <td>alfa-romero</td>\n",
              "      <td>gas</td>\n",
              "      <td>std</td>\n",
              "      <td>two</td>\n",
              "      <td>convertible</td>\n",
              "      <td>rwd</td>\n",
              "      <td>front</td>\n",
              "      <td>88.6</td>\n",
              "      <td>...</td>\n",
              "      <td>four</td>\n",
              "      <td>130</td>\n",
              "      <td>mpfi</td>\n",
              "      <td>3.47</td>\n",
              "      <td>2.68</td>\n",
              "      <td>9.0</td>\n",
              "      <td>111.0</td>\n",
              "      <td>5000.0</td>\n",
              "      <td>21</td>\n",
              "      <td>27</td>\n",
              "    </tr>\n",
              "    <tr>\n",
              "      <th>1</th>\n",
              "      <td>3</td>\n",
              "      <td>115.0</td>\n",
              "      <td>alfa-romero</td>\n",
              "      <td>gas</td>\n",
              "      <td>std</td>\n",
              "      <td>two</td>\n",
              "      <td>convertible</td>\n",
              "      <td>rwd</td>\n",
              "      <td>front</td>\n",
              "      <td>88.6</td>\n",
              "      <td>...</td>\n",
              "      <td>four</td>\n",
              "      <td>130</td>\n",
              "      <td>mpfi</td>\n",
              "      <td>3.47</td>\n",
              "      <td>2.68</td>\n",
              "      <td>9.0</td>\n",
              "      <td>111.0</td>\n",
              "      <td>5000.0</td>\n",
              "      <td>21</td>\n",
              "      <td>27</td>\n",
              "    </tr>\n",
              "    <tr>\n",
              "      <th>2</th>\n",
              "      <td>1</td>\n",
              "      <td>115.0</td>\n",
              "      <td>alfa-romero</td>\n",
              "      <td>gas</td>\n",
              "      <td>std</td>\n",
              "      <td>two</td>\n",
              "      <td>hatchback</td>\n",
              "      <td>rwd</td>\n",
              "      <td>front</td>\n",
              "      <td>94.5</td>\n",
              "      <td>...</td>\n",
              "      <td>six</td>\n",
              "      <td>152</td>\n",
              "      <td>mpfi</td>\n",
              "      <td>2.68</td>\n",
              "      <td>3.47</td>\n",
              "      <td>9.0</td>\n",
              "      <td>154.0</td>\n",
              "      <td>5000.0</td>\n",
              "      <td>19</td>\n",
              "      <td>26</td>\n",
              "    </tr>\n",
              "    <tr>\n",
              "      <th>3</th>\n",
              "      <td>2</td>\n",
              "      <td>164.0</td>\n",
              "      <td>audi</td>\n",
              "      <td>gas</td>\n",
              "      <td>std</td>\n",
              "      <td>four</td>\n",
              "      <td>sedan</td>\n",
              "      <td>fwd</td>\n",
              "      <td>front</td>\n",
              "      <td>99.8</td>\n",
              "      <td>...</td>\n",
              "      <td>four</td>\n",
              "      <td>109</td>\n",
              "      <td>mpfi</td>\n",
              "      <td>3.19</td>\n",
              "      <td>3.40</td>\n",
              "      <td>10.0</td>\n",
              "      <td>102.0</td>\n",
              "      <td>5500.0</td>\n",
              "      <td>24</td>\n",
              "      <td>30</td>\n",
              "    </tr>\n",
              "    <tr>\n",
              "      <th>4</th>\n",
              "      <td>2</td>\n",
              "      <td>164.0</td>\n",
              "      <td>audi</td>\n",
              "      <td>gas</td>\n",
              "      <td>std</td>\n",
              "      <td>four</td>\n",
              "      <td>sedan</td>\n",
              "      <td>4wd</td>\n",
              "      <td>front</td>\n",
              "      <td>99.4</td>\n",
              "      <td>...</td>\n",
              "      <td>five</td>\n",
              "      <td>136</td>\n",
              "      <td>mpfi</td>\n",
              "      <td>3.19</td>\n",
              "      <td>3.40</td>\n",
              "      <td>8.0</td>\n",
              "      <td>115.0</td>\n",
              "      <td>5500.0</td>\n",
              "      <td>18</td>\n",
              "      <td>22</td>\n",
              "    </tr>\n",
              "  </tbody>\n",
              "</table>\n",
              "<p>5 rows × 25 columns</p>\n",
              "</div>"
            ],
            "text/plain": [
              "   symboling  normalized-losses         make fuel-type aspiration  \\\n",
              "0          3              115.0  alfa-romero       gas        std   \n",
              "1          3              115.0  alfa-romero       gas        std   \n",
              "2          1              115.0  alfa-romero       gas        std   \n",
              "3          2              164.0         audi       gas        std   \n",
              "4          2              164.0         audi       gas        std   \n",
              "\n",
              "  num-of-doors   body-style drive-wheels engine-location  wheel-base  ...  \\\n",
              "0          two  convertible          rwd           front        88.6  ...   \n",
              "1          two  convertible          rwd           front        88.6  ...   \n",
              "2          two    hatchback          rwd           front        94.5  ...   \n",
              "3         four        sedan          fwd           front        99.8  ...   \n",
              "4         four        sedan          4wd           front        99.4  ...   \n",
              "\n",
              "   num-of-cylinders  engine-size  fuel-system  bore stroke compression-ratio  \\\n",
              "0              four          130         mpfi  3.47   2.68               9.0   \n",
              "1              four          130         mpfi  3.47   2.68               9.0   \n",
              "2               six          152         mpfi  2.68   3.47               9.0   \n",
              "3              four          109         mpfi  3.19   3.40              10.0   \n",
              "4              five          136         mpfi  3.19   3.40               8.0   \n",
              "\n",
              "   horsepower peak-rpm  city-mpg  highway-mpg  \n",
              "0       111.0   5000.0        21           27  \n",
              "1       111.0   5000.0        21           27  \n",
              "2       154.0   5000.0        19           26  \n",
              "3       102.0   5500.0        24           30  \n",
              "4       115.0   5500.0        18           22  \n",
              "\n",
              "[5 rows x 25 columns]"
            ]
          },
          "execution_count": 256,
          "metadata": {},
          "output_type": "execute_result"
        }
      ],
      "source": [
        "X.head()"
      ]
    },
    {
      "cell_type": "code",
      "execution_count": null,
      "id": "8b07e521",
      "metadata": {
        "id": "8b07e521",
        "outputId": "67b46998-8859-48cf-a52d-e0014cd2d3c9"
      },
      "outputs": [
        {
          "data": {
            "text/plain": [
              "((152, 72), (39, 72), (152,), (39,))"
            ]
          },
          "execution_count": 435,
          "metadata": {},
          "output_type": "execute_result"
        }
      ],
      "source": [
        "X_train,X_test,y_train,y_test=train_test_split(transformed_X, y, test_size=0.2,random_state=42)  ### Random state 43 for goof accuracy\n",
        "X_train.shape, X_test.shape,y_train.shape, y_test.shape"
      ]
    },
    {
      "cell_type": "code",
      "execution_count": null,
      "id": "26aac242",
      "metadata": {
        "id": "26aac242",
        "outputId": "fa0f590e-457d-4b50-d651-184ca819bc5b"
      },
      "outputs": [
        {
          "data": {
            "text/html": [
              "<style>#sk-container-id-33 {color: black;}#sk-container-id-33 pre{padding: 0;}#sk-container-id-33 div.sk-toggleable {background-color: white;}#sk-container-id-33 label.sk-toggleable__label {cursor: pointer;display: block;width: 100%;margin-bottom: 0;padding: 0.3em;box-sizing: border-box;text-align: center;}#sk-container-id-33 label.sk-toggleable__label-arrow:before {content: \"▸\";float: left;margin-right: 0.25em;color: #696969;}#sk-container-id-33 label.sk-toggleable__label-arrow:hover:before {color: black;}#sk-container-id-33 div.sk-estimator:hover label.sk-toggleable__label-arrow:before {color: black;}#sk-container-id-33 div.sk-toggleable__content {max-height: 0;max-width: 0;overflow: hidden;text-align: left;background-color: #f0f8ff;}#sk-container-id-33 div.sk-toggleable__content pre {margin: 0.2em;color: black;border-radius: 0.25em;background-color: #f0f8ff;}#sk-container-id-33 input.sk-toggleable__control:checked~div.sk-toggleable__content {max-height: 200px;max-width: 100%;overflow: auto;}#sk-container-id-33 input.sk-toggleable__control:checked~label.sk-toggleable__label-arrow:before {content: \"▾\";}#sk-container-id-33 div.sk-estimator input.sk-toggleable__control:checked~label.sk-toggleable__label {background-color: #d4ebff;}#sk-container-id-33 div.sk-label input.sk-toggleable__control:checked~label.sk-toggleable__label {background-color: #d4ebff;}#sk-container-id-33 input.sk-hidden--visually {border: 0;clip: rect(1px 1px 1px 1px);clip: rect(1px, 1px, 1px, 1px);height: 1px;margin: -1px;overflow: hidden;padding: 0;position: absolute;width: 1px;}#sk-container-id-33 div.sk-estimator {font-family: monospace;background-color: #f0f8ff;border: 1px dotted black;border-radius: 0.25em;box-sizing: border-box;margin-bottom: 0.5em;}#sk-container-id-33 div.sk-estimator:hover {background-color: #d4ebff;}#sk-container-id-33 div.sk-parallel-item::after {content: \"\";width: 100%;border-bottom: 1px solid gray;flex-grow: 1;}#sk-container-id-33 div.sk-label:hover label.sk-toggleable__label {background-color: #d4ebff;}#sk-container-id-33 div.sk-serial::before {content: \"\";position: absolute;border-left: 1px solid gray;box-sizing: border-box;top: 0;bottom: 0;left: 50%;z-index: 0;}#sk-container-id-33 div.sk-serial {display: flex;flex-direction: column;align-items: center;background-color: white;padding-right: 0.2em;padding-left: 0.2em;position: relative;}#sk-container-id-33 div.sk-item {position: relative;z-index: 1;}#sk-container-id-33 div.sk-parallel {display: flex;align-items: stretch;justify-content: center;background-color: white;position: relative;}#sk-container-id-33 div.sk-item::before, #sk-container-id-33 div.sk-parallel-item::before {content: \"\";position: absolute;border-left: 1px solid gray;box-sizing: border-box;top: 0;bottom: 0;left: 50%;z-index: -1;}#sk-container-id-33 div.sk-parallel-item {display: flex;flex-direction: column;z-index: 1;position: relative;background-color: white;}#sk-container-id-33 div.sk-parallel-item:first-child::after {align-self: flex-end;width: 50%;}#sk-container-id-33 div.sk-parallel-item:last-child::after {align-self: flex-start;width: 50%;}#sk-container-id-33 div.sk-parallel-item:only-child::after {width: 0;}#sk-container-id-33 div.sk-dashed-wrapped {border: 1px dashed gray;margin: 0 0.4em 0.5em 0.4em;box-sizing: border-box;padding-bottom: 0.4em;background-color: white;}#sk-container-id-33 div.sk-label label {font-family: monospace;font-weight: bold;display: inline-block;line-height: 1.2em;}#sk-container-id-33 div.sk-label-container {text-align: center;}#sk-container-id-33 div.sk-container {/* jupyter's `normalize.less` sets `[hidden] { display: none; }` but bootstrap.min.css set `[hidden] { display: none !important; }` so we also need the `!important` here to be able to override the default hidden behavior on the sphinx rendered scikit-learn.org. See: https://github.com/scikit-learn/scikit-learn/issues/21755 */display: inline-block !important;position: relative;}#sk-container-id-33 div.sk-text-repr-fallback {display: none;}</style><div id=\"sk-container-id-33\" class=\"sk-top-container\"><div class=\"sk-text-repr-fallback\"><pre>LinearRegression()</pre><b>In a Jupyter environment, please rerun this cell to show the HTML representation or trust the notebook. <br />On GitHub, the HTML representation is unable to render, please try loading this page with nbviewer.org.</b></div><div class=\"sk-container\" hidden><div class=\"sk-item\"><div class=\"sk-estimator sk-toggleable\"><input class=\"sk-toggleable__control sk-hidden--visually\" id=\"sk-estimator-id-33\" type=\"checkbox\" checked><label for=\"sk-estimator-id-33\" class=\"sk-toggleable__label sk-toggleable__label-arrow\">LinearRegression</label><div class=\"sk-toggleable__content\"><pre>LinearRegression()</pre></div></div></div></div></div>"
            ],
            "text/plain": [
              "LinearRegression()"
            ]
          },
          "execution_count": 436,
          "metadata": {},
          "output_type": "execute_result"
        }
      ],
      "source": [
        "model=LinearRegression()\n",
        "model.fit(X_train, y_train)"
      ]
    },
    {
      "cell_type": "markdown",
      "id": "cc1e5439",
      "metadata": {
        "id": "cc1e5439"
      },
      "source": [
        "### Training data Model fitting and evalution"
      ]
    },
    {
      "cell_type": "code",
      "execution_count": null,
      "id": "3bae4859",
      "metadata": {
        "id": "3bae4859",
        "outputId": "2de1be1c-8b65-421c-a39e-84ba5bbffeeb"
      },
      "outputs": [
        {
          "name": "stdout",
          "output_type": "stream",
          "text": [
            "1076834.1064962086\n",
            "1037.7061754158585\n",
            "809.4016498766447\n",
            "0.958772509508906\n"
          ]
        }
      ],
      "source": [
        "y_predict=model.predict(X_train)\n",
        "MSE=mean_squared_error(y_train,y_predict)\n",
        "print(MSE)\n",
        "RMSE=np.sqrt(MSE)\n",
        "print(RMSE)\n",
        "MAE=mean_absolute_error(y_train,y_predict)\n",
        "print(MAE)\n",
        "R2=r2_score(y_train,y_predict)\n",
        "print(R2)"
      ]
    },
    {
      "cell_type": "code",
      "execution_count": null,
      "id": "61273695",
      "metadata": {
        "id": "61273695",
        "outputId": "cafca46e-577b-4066-f1f1-d5b264308800"
      },
      "outputs": [
        {
          "name": "stdout",
          "output_type": "stream",
          "text": [
            "7.968140498999456e+24\n",
            "2822789488962.905\n",
            "452008071031.3862\n",
            "-5.6036123717956966e+17\n",
            "Adjusted R2= -9.02276568339985e+17\n"
          ]
        }
      ],
      "source": [
        "y_pred_= model.predict(X_test)\n",
        "MSE=mean_squared_error(y_test,y_pred_)\n",
        "print(MSE)\n",
        "RMSE=np.sqrt(MSE)\n",
        "print(RMSE)\n",
        "MAE=mean_absolute_error(y_test,y_pred_)\n",
        "print(MAE)\n",
        "R2=r2_score(y_test,y_pred_)\n",
        "print(R2)\n",
        "n = transformed_X.shape[0]\n",
        "k = transformed_X.shape[1]\n",
        "adjusted_r2 = 1 - ((1 - R2) * (n - 1) / (n - k - 1))\n",
        "print('Adjusted R2=',adjusted_r2)"
      ]
    },
    {
      "cell_type": "markdown",
      "id": "6bda0f7a",
      "metadata": {
        "id": "6bda0f7a"
      },
      "source": [
        "##### We got underfittting so need to work on testing data"
      ]
    },
    {
      "cell_type": "code",
      "execution_count": null,
      "id": "e68f946c",
      "metadata": {
        "id": "e68f946c"
      },
      "outputs": [],
      "source": [
        "std=StandardScaler()\n",
        "X_trained_scale=std.fit_transform(X_train)\n",
        "X_test_scaled=std.fit_transform(X_test)"
      ]
    },
    {
      "cell_type": "code",
      "execution_count": null,
      "id": "bc40c5b5",
      "metadata": {
        "id": "bc40c5b5",
        "outputId": "4a007464-bfbc-4543-a285-8d7797904c9b"
      },
      "outputs": [
        {
          "data": {
            "text/html": [
              "<div>\n",
              "<style scoped>\n",
              "    .dataframe tbody tr th:only-of-type {\n",
              "        vertical-align: middle;\n",
              "    }\n",
              "\n",
              "    .dataframe tbody tr th {\n",
              "        vertical-align: top;\n",
              "    }\n",
              "\n",
              "    .dataframe thead th {\n",
              "        text-align: right;\n",
              "    }\n",
              "</style>\n",
              "<table border=\"1\" class=\"dataframe\">\n",
              "  <thead>\n",
              "    <tr style=\"text-align: right;\">\n",
              "      <th></th>\n",
              "      <th>0</th>\n",
              "      <th>1</th>\n",
              "      <th>2</th>\n",
              "      <th>3</th>\n",
              "      <th>4</th>\n",
              "      <th>5</th>\n",
              "      <th>6</th>\n",
              "      <th>7</th>\n",
              "      <th>8</th>\n",
              "      <th>9</th>\n",
              "      <th>...</th>\n",
              "      <th>62</th>\n",
              "      <th>63</th>\n",
              "      <th>64</th>\n",
              "      <th>65</th>\n",
              "      <th>66</th>\n",
              "      <th>67</th>\n",
              "      <th>68</th>\n",
              "      <th>69</th>\n",
              "      <th>70</th>\n",
              "      <th>71</th>\n",
              "    </tr>\n",
              "  </thead>\n",
              "  <tbody>\n",
              "    <tr>\n",
              "      <th>0</th>\n",
              "      <td>-0.141895</td>\n",
              "      <td>-0.184428</td>\n",
              "      <td>-0.184428</td>\n",
              "      <td>-0.081379</td>\n",
              "      <td>-0.202721</td>\n",
              "      <td>3.41565</td>\n",
              "      <td>-0.141895</td>\n",
              "      <td>-0.330891</td>\n",
              "      <td>-0.141895</td>\n",
              "      <td>-0.081379</td>\n",
              "      <td>...</td>\n",
              "      <td>-0.247176</td>\n",
              "      <td>-0.476606</td>\n",
              "      <td>-0.339294</td>\n",
              "      <td>-0.622886</td>\n",
              "      <td>1.061258</td>\n",
              "      <td>-0.336297</td>\n",
              "      <td>-0.364085</td>\n",
              "      <td>1.457549</td>\n",
              "      <td>0.203228</td>\n",
              "      <td>0.255645</td>\n",
              "    </tr>\n",
              "    <tr>\n",
              "      <th>1</th>\n",
              "      <td>-0.141895</td>\n",
              "      <td>-0.184428</td>\n",
              "      <td>-0.184428</td>\n",
              "      <td>-0.081379</td>\n",
              "      <td>-0.202721</td>\n",
              "      <td>-0.29277</td>\n",
              "      <td>-0.141895</td>\n",
              "      <td>-0.330891</td>\n",
              "      <td>-0.141895</td>\n",
              "      <td>-0.081379</td>\n",
              "      <td>...</td>\n",
              "      <td>1.188113</td>\n",
              "      <td>1.281159</td>\n",
              "      <td>0.024406</td>\n",
              "      <td>0.562031</td>\n",
              "      <td>-3.360405</td>\n",
              "      <td>-0.475955</td>\n",
              "      <td>-0.099296</td>\n",
              "      <td>-0.234460</td>\n",
              "      <td>-1.104314</td>\n",
              "      <td>-1.154524</td>\n",
              "    </tr>\n",
              "    <tr>\n",
              "      <th>2</th>\n",
              "      <td>-0.141895</td>\n",
              "      <td>-0.184428</td>\n",
              "      <td>-0.184428</td>\n",
              "      <td>-0.081379</td>\n",
              "      <td>-0.202721</td>\n",
              "      <td>-0.29277</td>\n",
              "      <td>-0.141895</td>\n",
              "      <td>3.022141</td>\n",
              "      <td>-0.141895</td>\n",
              "      <td>-0.081379</td>\n",
              "      <td>...</td>\n",
              "      <td>-0.078319</td>\n",
              "      <td>-0.261917</td>\n",
              "      <td>0.097146</td>\n",
              "      <td>0.294469</td>\n",
              "      <td>0.456858</td>\n",
              "      <td>-0.429402</td>\n",
              "      <td>-0.422927</td>\n",
              "      <td>-0.657462</td>\n",
              "      <td>0.039785</td>\n",
              "      <td>0.098959</td>\n",
              "    </tr>\n",
              "    <tr>\n",
              "      <th>3</th>\n",
              "      <td>-0.141895</td>\n",
              "      <td>-0.184428</td>\n",
              "      <td>-0.184428</td>\n",
              "      <td>-0.081379</td>\n",
              "      <td>-0.202721</td>\n",
              "      <td>-0.29277</td>\n",
              "      <td>-0.141895</td>\n",
              "      <td>-0.330891</td>\n",
              "      <td>-0.141895</td>\n",
              "      <td>-0.081379</td>\n",
              "      <td>...</td>\n",
              "      <td>0.428254</td>\n",
              "      <td>0.330714</td>\n",
              "      <td>-0.412034</td>\n",
              "      <td>1.173602</td>\n",
              "      <td>-1.928931</td>\n",
              "      <td>-0.638889</td>\n",
              "      <td>0.371440</td>\n",
              "      <td>-0.657462</td>\n",
              "      <td>-0.450543</td>\n",
              "      <td>-1.311209</td>\n",
              "    </tr>\n",
              "    <tr>\n",
              "      <th>4</th>\n",
              "      <td>-0.141895</td>\n",
              "      <td>-0.184428</td>\n",
              "      <td>-0.184428</td>\n",
              "      <td>-0.081379</td>\n",
              "      <td>-0.202721</td>\n",
              "      <td>-0.29277</td>\n",
              "      <td>-0.141895</td>\n",
              "      <td>-0.330891</td>\n",
              "      <td>-0.141895</td>\n",
              "      <td>-0.081379</td>\n",
              "      <td>...</td>\n",
              "      <td>0.259396</td>\n",
              "      <td>-1.371142</td>\n",
              "      <td>-0.812105</td>\n",
              "      <td>-0.622886</td>\n",
              "      <td>0.138752</td>\n",
              "      <td>-0.243191</td>\n",
              "      <td>-0.864242</td>\n",
              "      <td>0.188542</td>\n",
              "      <td>0.857000</td>\n",
              "      <td>0.882386</td>\n",
              "    </tr>\n",
              "  </tbody>\n",
              "</table>\n",
              "<p>5 rows × 72 columns</p>\n",
              "</div>"
            ],
            "text/plain": [
              "         0         1         2         3         4        5         6   \\\n",
              "0 -0.141895 -0.184428 -0.184428 -0.081379 -0.202721  3.41565 -0.141895   \n",
              "1 -0.141895 -0.184428 -0.184428 -0.081379 -0.202721 -0.29277 -0.141895   \n",
              "2 -0.141895 -0.184428 -0.184428 -0.081379 -0.202721 -0.29277 -0.141895   \n",
              "3 -0.141895 -0.184428 -0.184428 -0.081379 -0.202721 -0.29277 -0.141895   \n",
              "4 -0.141895 -0.184428 -0.184428 -0.081379 -0.202721 -0.29277 -0.141895   \n",
              "\n",
              "         7         8         9   ...        62        63        64        65  \\\n",
              "0 -0.330891 -0.141895 -0.081379  ... -0.247176 -0.476606 -0.339294 -0.622886   \n",
              "1 -0.330891 -0.141895 -0.081379  ...  1.188113  1.281159  0.024406  0.562031   \n",
              "2  3.022141 -0.141895 -0.081379  ... -0.078319 -0.261917  0.097146  0.294469   \n",
              "3 -0.330891 -0.141895 -0.081379  ...  0.428254  0.330714 -0.412034  1.173602   \n",
              "4 -0.330891 -0.141895 -0.081379  ...  0.259396 -1.371142 -0.812105 -0.622886   \n",
              "\n",
              "         66        67        68        69        70        71  \n",
              "0  1.061258 -0.336297 -0.364085  1.457549  0.203228  0.255645  \n",
              "1 -3.360405 -0.475955 -0.099296 -0.234460 -1.104314 -1.154524  \n",
              "2  0.456858 -0.429402 -0.422927 -0.657462  0.039785  0.098959  \n",
              "3 -1.928931 -0.638889  0.371440 -0.657462 -0.450543 -1.311209  \n",
              "4  0.138752 -0.243191 -0.864242  0.188542  0.857000  0.882386  \n",
              "\n",
              "[5 rows x 72 columns]"
            ]
          },
          "execution_count": 440,
          "metadata": {},
          "output_type": "execute_result"
        }
      ],
      "source": [
        "X_train1=pd.DataFrame(X_trained_scale)\n",
        "X_train1.head()"
      ]
    },
    {
      "cell_type": "code",
      "execution_count": null,
      "id": "73045416",
      "metadata": {
        "id": "73045416",
        "outputId": "1e7a169b-17b7-4868-964a-2508920f1f8b"
      },
      "outputs": [
        {
          "data": {
            "text/html": [
              "<div>\n",
              "<style scoped>\n",
              "    .dataframe tbody tr th:only-of-type {\n",
              "        vertical-align: middle;\n",
              "    }\n",
              "\n",
              "    .dataframe tbody tr th {\n",
              "        vertical-align: top;\n",
              "    }\n",
              "\n",
              "    .dataframe thead th {\n",
              "        text-align: right;\n",
              "    }\n",
              "</style>\n",
              "<table border=\"1\" class=\"dataframe\">\n",
              "  <thead>\n",
              "    <tr style=\"text-align: right;\">\n",
              "      <th></th>\n",
              "      <th>0</th>\n",
              "      <th>1</th>\n",
              "      <th>2</th>\n",
              "      <th>3</th>\n",
              "      <th>4</th>\n",
              "      <th>5</th>\n",
              "      <th>6</th>\n",
              "      <th>7</th>\n",
              "      <th>8</th>\n",
              "      <th>9</th>\n",
              "      <th>...</th>\n",
              "      <th>62</th>\n",
              "      <th>63</th>\n",
              "      <th>64</th>\n",
              "      <th>65</th>\n",
              "      <th>66</th>\n",
              "      <th>67</th>\n",
              "      <th>68</th>\n",
              "      <th>69</th>\n",
              "      <th>70</th>\n",
              "      <th>71</th>\n",
              "    </tr>\n",
              "  </thead>\n",
              "  <tbody>\n",
              "    <tr>\n",
              "      <th>0</th>\n",
              "      <td>0.0</td>\n",
              "      <td>-0.232495</td>\n",
              "      <td>0.0</td>\n",
              "      <td>-0.232495</td>\n",
              "      <td>-0.288675</td>\n",
              "      <td>-0.162221</td>\n",
              "      <td>-0.162221</td>\n",
              "      <td>-0.232495</td>\n",
              "      <td>0.0</td>\n",
              "      <td>0.0</td>\n",
              "      <td>...</td>\n",
              "      <td>-0.221272</td>\n",
              "      <td>-0.261912</td>\n",
              "      <td>-0.705772</td>\n",
              "      <td>-0.151206</td>\n",
              "      <td>-0.757707</td>\n",
              "      <td>0.107515</td>\n",
              "      <td>0.482829</td>\n",
              "      <td>3.053668</td>\n",
              "      <td>-0.070538</td>\n",
              "      <td>-0.453631</td>\n",
              "    </tr>\n",
              "    <tr>\n",
              "      <th>1</th>\n",
              "      <td>0.0</td>\n",
              "      <td>-0.232495</td>\n",
              "      <td>0.0</td>\n",
              "      <td>-0.232495</td>\n",
              "      <td>-0.288675</td>\n",
              "      <td>-0.162221</td>\n",
              "      <td>-0.162221</td>\n",
              "      <td>-0.232495</td>\n",
              "      <td>0.0</td>\n",
              "      <td>0.0</td>\n",
              "      <td>...</td>\n",
              "      <td>-0.613528</td>\n",
              "      <td>-0.026191</td>\n",
              "      <td>0.184528</td>\n",
              "      <td>0.251697</td>\n",
              "      <td>0.755665</td>\n",
              "      <td>-0.298705</td>\n",
              "      <td>-0.340355</td>\n",
              "      <td>-0.433045</td>\n",
              "      <td>-0.223370</td>\n",
              "      <td>-0.003844</td>\n",
              "    </tr>\n",
              "    <tr>\n",
              "      <th>2</th>\n",
              "      <td>0.0</td>\n",
              "      <td>-0.232495</td>\n",
              "      <td>0.0</td>\n",
              "      <td>-0.232495</td>\n",
              "      <td>-0.288675</td>\n",
              "      <td>-0.162221</td>\n",
              "      <td>-0.162221</td>\n",
              "      <td>-0.232495</td>\n",
              "      <td>0.0</td>\n",
              "      <td>0.0</td>\n",
              "      <td>...</td>\n",
              "      <td>-0.064370</td>\n",
              "      <td>1.253438</td>\n",
              "      <td>1.074827</td>\n",
              "      <td>1.240639</td>\n",
              "      <td>0.914967</td>\n",
              "      <td>0.062380</td>\n",
              "      <td>0.620026</td>\n",
              "      <td>-0.868885</td>\n",
              "      <td>-0.376202</td>\n",
              "      <td>-0.303702</td>\n",
              "    </tr>\n",
              "    <tr>\n",
              "      <th>3</th>\n",
              "      <td>0.0</td>\n",
              "      <td>-0.232495</td>\n",
              "      <td>0.0</td>\n",
              "      <td>-0.232495</td>\n",
              "      <td>-0.288675</td>\n",
              "      <td>-0.162221</td>\n",
              "      <td>-0.162221</td>\n",
              "      <td>-0.232495</td>\n",
              "      <td>0.0</td>\n",
              "      <td>0.0</td>\n",
              "      <td>...</td>\n",
              "      <td>-0.927333</td>\n",
              "      <td>-1.061119</td>\n",
              "      <td>-0.928347</td>\n",
              "      <td>-1.140148</td>\n",
              "      <td>-0.160323</td>\n",
              "      <td>0.107515</td>\n",
              "      <td>-1.026341</td>\n",
              "      <td>0.656553</td>\n",
              "      <td>0.693622</td>\n",
              "      <td>0.895730</td>\n",
              "    </tr>\n",
              "    <tr>\n",
              "      <th>4</th>\n",
              "      <td>0.0</td>\n",
              "      <td>-0.232495</td>\n",
              "      <td>0.0</td>\n",
              "      <td>-0.232495</td>\n",
              "      <td>-0.288675</td>\n",
              "      <td>-0.162221</td>\n",
              "      <td>-0.162221</td>\n",
              "      <td>4.301163</td>\n",
              "      <td>0.0</td>\n",
              "      <td>0.0</td>\n",
              "      <td>...</td>\n",
              "      <td>0.484788</td>\n",
              "      <td>0.636073</td>\n",
              "      <td>0.629678</td>\n",
              "      <td>0.544716</td>\n",
              "      <td>1.472525</td>\n",
              "      <td>5.794600</td>\n",
              "      <td>-0.889144</td>\n",
              "      <td>-2.176402</td>\n",
              "      <td>0.693622</td>\n",
              "      <td>1.045659</td>\n",
              "    </tr>\n",
              "  </tbody>\n",
              "</table>\n",
              "<p>5 rows × 72 columns</p>\n",
              "</div>"
            ],
            "text/plain": [
              "    0         1    2         3         4         5         6         7    8   \\\n",
              "0  0.0 -0.232495  0.0 -0.232495 -0.288675 -0.162221 -0.162221 -0.232495  0.0   \n",
              "1  0.0 -0.232495  0.0 -0.232495 -0.288675 -0.162221 -0.162221 -0.232495  0.0   \n",
              "2  0.0 -0.232495  0.0 -0.232495 -0.288675 -0.162221 -0.162221 -0.232495  0.0   \n",
              "3  0.0 -0.232495  0.0 -0.232495 -0.288675 -0.162221 -0.162221 -0.232495  0.0   \n",
              "4  0.0 -0.232495  0.0 -0.232495 -0.288675 -0.162221 -0.162221  4.301163  0.0   \n",
              "\n",
              "    9   ...        62        63        64        65        66        67  \\\n",
              "0  0.0  ... -0.221272 -0.261912 -0.705772 -0.151206 -0.757707  0.107515   \n",
              "1  0.0  ... -0.613528 -0.026191  0.184528  0.251697  0.755665 -0.298705   \n",
              "2  0.0  ... -0.064370  1.253438  1.074827  1.240639  0.914967  0.062380   \n",
              "3  0.0  ... -0.927333 -1.061119 -0.928347 -1.140148 -0.160323  0.107515   \n",
              "4  0.0  ...  0.484788  0.636073  0.629678  0.544716  1.472525  5.794600   \n",
              "\n",
              "         68        69        70        71  \n",
              "0  0.482829  3.053668 -0.070538 -0.453631  \n",
              "1 -0.340355 -0.433045 -0.223370 -0.003844  \n",
              "2  0.620026 -0.868885 -0.376202 -0.303702  \n",
              "3 -1.026341  0.656553  0.693622  0.895730  \n",
              "4 -0.889144 -2.176402  0.693622  1.045659  \n",
              "\n",
              "[5 rows x 72 columns]"
            ]
          },
          "execution_count": 441,
          "metadata": {},
          "output_type": "execute_result"
        }
      ],
      "source": [
        "X_test1=pd.DataFrame(X_test_scaled)\n",
        "X_test1.head()"
      ]
    },
    {
      "cell_type": "code",
      "execution_count": null,
      "id": "1c009c94",
      "metadata": {
        "id": "1c009c94"
      },
      "outputs": [],
      "source": [
        "y_trained_scaled = std.fit_transform(y_train.values.reshape(-1, 1))\n",
        "y_test_scaled = std.fit_transform(y_test.values.reshape(-1, 1))"
      ]
    },
    {
      "cell_type": "code",
      "execution_count": null,
      "id": "a084b5cf",
      "metadata": {
        "id": "a084b5cf",
        "outputId": "f6c1c14e-3441-4a83-84c6-d148499a5e63"
      },
      "outputs": [
        {
          "data": {
            "text/html": [
              "<div>\n",
              "<style scoped>\n",
              "    .dataframe tbody tr th:only-of-type {\n",
              "        vertical-align: middle;\n",
              "    }\n",
              "\n",
              "    .dataframe tbody tr th {\n",
              "        vertical-align: top;\n",
              "    }\n",
              "\n",
              "    .dataframe thead th {\n",
              "        text-align: right;\n",
              "    }\n",
              "</style>\n",
              "<table border=\"1\" class=\"dataframe\">\n",
              "  <thead>\n",
              "    <tr style=\"text-align: right;\">\n",
              "      <th></th>\n",
              "      <th>0</th>\n",
              "    </tr>\n",
              "  </thead>\n",
              "  <tbody>\n",
              "    <tr>\n",
              "      <th>0</th>\n",
              "      <td>-0.535333</td>\n",
              "    </tr>\n",
              "    <tr>\n",
              "      <th>1</th>\n",
              "      <td>0.733572</td>\n",
              "    </tr>\n",
              "    <tr>\n",
              "      <th>2</th>\n",
              "      <td>-0.241831</td>\n",
              "    </tr>\n",
              "    <tr>\n",
              "      <th>3</th>\n",
              "      <td>-0.026792</td>\n",
              "    </tr>\n",
              "    <tr>\n",
              "      <th>4</th>\n",
              "      <td>-1.238953</td>\n",
              "    </tr>\n",
              "  </tbody>\n",
              "</table>\n",
              "</div>"
            ],
            "text/plain": [
              "          0\n",
              "0 -0.535333\n",
              "1  0.733572\n",
              "2 -0.241831\n",
              "3 -0.026792\n",
              "4 -1.238953"
            ]
          },
          "execution_count": 443,
          "metadata": {},
          "output_type": "execute_result"
        }
      ],
      "source": [
        "y_train1=pd.DataFrame(y_trained_scaled)\n",
        "y_train1.head()"
      ]
    },
    {
      "cell_type": "code",
      "execution_count": null,
      "id": "15706552",
      "metadata": {
        "id": "15706552",
        "outputId": "a78d14e7-7b80-43db-f218-82766d3108fd"
      },
      "outputs": [
        {
          "data": {
            "text/html": [
              "<div>\n",
              "<style scoped>\n",
              "    .dataframe tbody tr th:only-of-type {\n",
              "        vertical-align: middle;\n",
              "    }\n",
              "\n",
              "    .dataframe tbody tr th {\n",
              "        vertical-align: top;\n",
              "    }\n",
              "\n",
              "    .dataframe thead th {\n",
              "        text-align: right;\n",
              "    }\n",
              "</style>\n",
              "<table border=\"1\" class=\"dataframe\">\n",
              "  <thead>\n",
              "    <tr style=\"text-align: right;\">\n",
              "      <th></th>\n",
              "      <th>0</th>\n",
              "    </tr>\n",
              "  </thead>\n",
              "  <tbody>\n",
              "    <tr>\n",
              "      <th>0</th>\n",
              "      <td>-0.149533</td>\n",
              "    </tr>\n",
              "    <tr>\n",
              "      <th>1</th>\n",
              "      <td>-0.507273</td>\n",
              "    </tr>\n",
              "    <tr>\n",
              "      <th>2</th>\n",
              "      <td>2.006719</td>\n",
              "    </tr>\n",
              "    <tr>\n",
              "      <th>3</th>\n",
              "      <td>-1.037651</td>\n",
              "    </tr>\n",
              "    <tr>\n",
              "      <th>4</th>\n",
              "      <td>2.185722</td>\n",
              "    </tr>\n",
              "  </tbody>\n",
              "</table>\n",
              "</div>"
            ],
            "text/plain": [
              "          0\n",
              "0 -0.149533\n",
              "1 -0.507273\n",
              "2  2.006719\n",
              "3 -1.037651\n",
              "4  2.185722"
            ]
          },
          "execution_count": 444,
          "metadata": {},
          "output_type": "execute_result"
        }
      ],
      "source": [
        "y_test1=pd.DataFrame(y_test_scaled)\n",
        "y_test1.head()"
      ]
    },
    {
      "cell_type": "code",
      "execution_count": null,
      "id": "d68330da",
      "metadata": {
        "id": "d68330da",
        "outputId": "94259d37-bd46-4196-92fa-5157206561cd"
      },
      "outputs": [
        {
          "data": {
            "text/html": [
              "<style>#sk-container-id-34 {color: black;}#sk-container-id-34 pre{padding: 0;}#sk-container-id-34 div.sk-toggleable {background-color: white;}#sk-container-id-34 label.sk-toggleable__label {cursor: pointer;display: block;width: 100%;margin-bottom: 0;padding: 0.3em;box-sizing: border-box;text-align: center;}#sk-container-id-34 label.sk-toggleable__label-arrow:before {content: \"▸\";float: left;margin-right: 0.25em;color: #696969;}#sk-container-id-34 label.sk-toggleable__label-arrow:hover:before {color: black;}#sk-container-id-34 div.sk-estimator:hover label.sk-toggleable__label-arrow:before {color: black;}#sk-container-id-34 div.sk-toggleable__content {max-height: 0;max-width: 0;overflow: hidden;text-align: left;background-color: #f0f8ff;}#sk-container-id-34 div.sk-toggleable__content pre {margin: 0.2em;color: black;border-radius: 0.25em;background-color: #f0f8ff;}#sk-container-id-34 input.sk-toggleable__control:checked~div.sk-toggleable__content {max-height: 200px;max-width: 100%;overflow: auto;}#sk-container-id-34 input.sk-toggleable__control:checked~label.sk-toggleable__label-arrow:before {content: \"▾\";}#sk-container-id-34 div.sk-estimator input.sk-toggleable__control:checked~label.sk-toggleable__label {background-color: #d4ebff;}#sk-container-id-34 div.sk-label input.sk-toggleable__control:checked~label.sk-toggleable__label {background-color: #d4ebff;}#sk-container-id-34 input.sk-hidden--visually {border: 0;clip: rect(1px 1px 1px 1px);clip: rect(1px, 1px, 1px, 1px);height: 1px;margin: -1px;overflow: hidden;padding: 0;position: absolute;width: 1px;}#sk-container-id-34 div.sk-estimator {font-family: monospace;background-color: #f0f8ff;border: 1px dotted black;border-radius: 0.25em;box-sizing: border-box;margin-bottom: 0.5em;}#sk-container-id-34 div.sk-estimator:hover {background-color: #d4ebff;}#sk-container-id-34 div.sk-parallel-item::after {content: \"\";width: 100%;border-bottom: 1px solid gray;flex-grow: 1;}#sk-container-id-34 div.sk-label:hover label.sk-toggleable__label {background-color: #d4ebff;}#sk-container-id-34 div.sk-serial::before {content: \"\";position: absolute;border-left: 1px solid gray;box-sizing: border-box;top: 0;bottom: 0;left: 50%;z-index: 0;}#sk-container-id-34 div.sk-serial {display: flex;flex-direction: column;align-items: center;background-color: white;padding-right: 0.2em;padding-left: 0.2em;position: relative;}#sk-container-id-34 div.sk-item {position: relative;z-index: 1;}#sk-container-id-34 div.sk-parallel {display: flex;align-items: stretch;justify-content: center;background-color: white;position: relative;}#sk-container-id-34 div.sk-item::before, #sk-container-id-34 div.sk-parallel-item::before {content: \"\";position: absolute;border-left: 1px solid gray;box-sizing: border-box;top: 0;bottom: 0;left: 50%;z-index: -1;}#sk-container-id-34 div.sk-parallel-item {display: flex;flex-direction: column;z-index: 1;position: relative;background-color: white;}#sk-container-id-34 div.sk-parallel-item:first-child::after {align-self: flex-end;width: 50%;}#sk-container-id-34 div.sk-parallel-item:last-child::after {align-self: flex-start;width: 50%;}#sk-container-id-34 div.sk-parallel-item:only-child::after {width: 0;}#sk-container-id-34 div.sk-dashed-wrapped {border: 1px dashed gray;margin: 0 0.4em 0.5em 0.4em;box-sizing: border-box;padding-bottom: 0.4em;background-color: white;}#sk-container-id-34 div.sk-label label {font-family: monospace;font-weight: bold;display: inline-block;line-height: 1.2em;}#sk-container-id-34 div.sk-label-container {text-align: center;}#sk-container-id-34 div.sk-container {/* jupyter's `normalize.less` sets `[hidden] { display: none; }` but bootstrap.min.css set `[hidden] { display: none !important; }` so we also need the `!important` here to be able to override the default hidden behavior on the sphinx rendered scikit-learn.org. See: https://github.com/scikit-learn/scikit-learn/issues/21755 */display: inline-block !important;position: relative;}#sk-container-id-34 div.sk-text-repr-fallback {display: none;}</style><div id=\"sk-container-id-34\" class=\"sk-top-container\"><div class=\"sk-text-repr-fallback\"><pre>LinearRegression()</pre><b>In a Jupyter environment, please rerun this cell to show the HTML representation or trust the notebook. <br />On GitHub, the HTML representation is unable to render, please try loading this page with nbviewer.org.</b></div><div class=\"sk-container\" hidden><div class=\"sk-item\"><div class=\"sk-estimator sk-toggleable\"><input class=\"sk-toggleable__control sk-hidden--visually\" id=\"sk-estimator-id-34\" type=\"checkbox\" checked><label for=\"sk-estimator-id-34\" class=\"sk-toggleable__label sk-toggleable__label-arrow\">LinearRegression</label><div class=\"sk-toggleable__content\"><pre>LinearRegression()</pre></div></div></div></div></div>"
            ],
            "text/plain": [
              "LinearRegression()"
            ]
          },
          "execution_count": 445,
          "metadata": {},
          "output_type": "execute_result"
        }
      ],
      "source": [
        "model.fit(X_train1,y_train1)"
      ]
    },
    {
      "cell_type": "code",
      "execution_count": null,
      "id": "5f98abd0",
      "metadata": {
        "id": "5f98abd0",
        "outputId": "68f9caf5-673d-4e31-836b-5a55fc7a1067"
      },
      "outputs": [
        {
          "name": "stdout",
          "output_type": "stream",
          "text": [
            "1.1385247197342182e+25\n",
            "3374203194436.011\n",
            "2193173920567.121\n",
            "-1.1385247197342186e+25\n"
          ]
        }
      ],
      "source": [
        "y_predict1=model.predict(X_test1)\n",
        "MSE=mean_squared_error(y_test1,y_predict1)\n",
        "print(MSE)\n",
        "RMSE=np.sqrt(MSE)\n",
        "print(RMSE)\n",
        "MAE=mean_absolute_error(y_test1,y_predict1)\n",
        "print(MAE)\n",
        "R2=r2_score(y_test1,y_predict1)\n",
        "print(R2)\n"
      ]
    },
    {
      "cell_type": "code",
      "execution_count": null,
      "id": "777661ba",
      "metadata": {
        "id": "777661ba",
        "outputId": "fb9bc816-a84d-4c4c-c481-f2ea48b38cb6"
      },
      "outputs": [
        {
          "name": "stdout",
          "output_type": "stream",
          "text": [
            "Adjusted R2= -1.8332177690635724e+25\n"
          ]
        }
      ],
      "source": [
        "n = transformed_X.shape[0]\n",
        "k = transformed_X.shape[1]\n",
        "adjusted_r2 = 1 - ((1 - R2) * (n - 1) / (n - k - 1))\n",
        "print('Adjusted R2=',adjusted_r2)"
      ]
    },
    {
      "cell_type": "code",
      "execution_count": null,
      "id": "8a18946a",
      "metadata": {
        "id": "8a18946a",
        "outputId": "06ade5f3-9924-49df-a8b9-80d719144bbc"
      },
      "outputs": [
        {
          "name": "stdout",
          "output_type": "stream",
          "text": [
            "MSE= 0.04167643975252569\n",
            "RMSE= 3374203194436.011\n",
            "RMSE= 3374203194436.011\n",
            "R2= 95.83235602474744\n"
          ]
        }
      ],
      "source": [
        "y_pred2=model.predict(X_train1)\n",
        "MSE=mean_squared_error(y_train1,y_pred2)\n",
        "print('MSE=',MSE)\n",
        "RSME=np.sqrt(MSE)\n",
        "print('RMSE=',RMSE)\n",
        "MAE=mean_absolute_error(y_train1,y_pred2)\n",
        "print('RMSE=',RMSE)\n",
        "R2=r2_score(y_train1,y_pred2)\n",
        "print('R2=',R2*100)"
      ]
    },
    {
      "cell_type": "code",
      "execution_count": null,
      "id": "fd272481",
      "metadata": {
        "id": "fd272481"
      },
      "outputs": [],
      "source": [
        "L2=Ridge(alpha=20)\n",
        "L1=Lasso(alpha=0.5)"
      ]
    },
    {
      "cell_type": "code",
      "execution_count": null,
      "id": "01b63f22",
      "metadata": {
        "id": "01b63f22",
        "outputId": "99e2f46b-1e8f-4bc0-dedb-4fc86538e44f"
      },
      "outputs": [
        {
          "name": "stderr",
          "output_type": "stream",
          "text": [
            "C:\\Users\\DELL\\anaconda3\\Lib\\site-packages\\sklearn\\linear_model\\_coordinate_descent.py:628: ConvergenceWarning: Objective did not converge. You might want to increase the number of iterations, check the scale of the features or consider increasing regularisation. Duality gap: 8.432e+07, tolerance: 3.970e+05\n",
            "  model = cd_fast.enet_coordinate_descent(\n"
          ]
        },
        {
          "data": {
            "text/html": [
              "<style>#sk-container-id-47 {color: black;}#sk-container-id-47 pre{padding: 0;}#sk-container-id-47 div.sk-toggleable {background-color: white;}#sk-container-id-47 label.sk-toggleable__label {cursor: pointer;display: block;width: 100%;margin-bottom: 0;padding: 0.3em;box-sizing: border-box;text-align: center;}#sk-container-id-47 label.sk-toggleable__label-arrow:before {content: \"▸\";float: left;margin-right: 0.25em;color: #696969;}#sk-container-id-47 label.sk-toggleable__label-arrow:hover:before {color: black;}#sk-container-id-47 div.sk-estimator:hover label.sk-toggleable__label-arrow:before {color: black;}#sk-container-id-47 div.sk-toggleable__content {max-height: 0;max-width: 0;overflow: hidden;text-align: left;background-color: #f0f8ff;}#sk-container-id-47 div.sk-toggleable__content pre {margin: 0.2em;color: black;border-radius: 0.25em;background-color: #f0f8ff;}#sk-container-id-47 input.sk-toggleable__control:checked~div.sk-toggleable__content {max-height: 200px;max-width: 100%;overflow: auto;}#sk-container-id-47 input.sk-toggleable__control:checked~label.sk-toggleable__label-arrow:before {content: \"▾\";}#sk-container-id-47 div.sk-estimator input.sk-toggleable__control:checked~label.sk-toggleable__label {background-color: #d4ebff;}#sk-container-id-47 div.sk-label input.sk-toggleable__control:checked~label.sk-toggleable__label {background-color: #d4ebff;}#sk-container-id-47 input.sk-hidden--visually {border: 0;clip: rect(1px 1px 1px 1px);clip: rect(1px, 1px, 1px, 1px);height: 1px;margin: -1px;overflow: hidden;padding: 0;position: absolute;width: 1px;}#sk-container-id-47 div.sk-estimator {font-family: monospace;background-color: #f0f8ff;border: 1px dotted black;border-radius: 0.25em;box-sizing: border-box;margin-bottom: 0.5em;}#sk-container-id-47 div.sk-estimator:hover {background-color: #d4ebff;}#sk-container-id-47 div.sk-parallel-item::after {content: \"\";width: 100%;border-bottom: 1px solid gray;flex-grow: 1;}#sk-container-id-47 div.sk-label:hover label.sk-toggleable__label {background-color: #d4ebff;}#sk-container-id-47 div.sk-serial::before {content: \"\";position: absolute;border-left: 1px solid gray;box-sizing: border-box;top: 0;bottom: 0;left: 50%;z-index: 0;}#sk-container-id-47 div.sk-serial {display: flex;flex-direction: column;align-items: center;background-color: white;padding-right: 0.2em;padding-left: 0.2em;position: relative;}#sk-container-id-47 div.sk-item {position: relative;z-index: 1;}#sk-container-id-47 div.sk-parallel {display: flex;align-items: stretch;justify-content: center;background-color: white;position: relative;}#sk-container-id-47 div.sk-item::before, #sk-container-id-47 div.sk-parallel-item::before {content: \"\";position: absolute;border-left: 1px solid gray;box-sizing: border-box;top: 0;bottom: 0;left: 50%;z-index: -1;}#sk-container-id-47 div.sk-parallel-item {display: flex;flex-direction: column;z-index: 1;position: relative;background-color: white;}#sk-container-id-47 div.sk-parallel-item:first-child::after {align-self: flex-end;width: 50%;}#sk-container-id-47 div.sk-parallel-item:last-child::after {align-self: flex-start;width: 50%;}#sk-container-id-47 div.sk-parallel-item:only-child::after {width: 0;}#sk-container-id-47 div.sk-dashed-wrapped {border: 1px dashed gray;margin: 0 0.4em 0.5em 0.4em;box-sizing: border-box;padding-bottom: 0.4em;background-color: white;}#sk-container-id-47 div.sk-label label {font-family: monospace;font-weight: bold;display: inline-block;line-height: 1.2em;}#sk-container-id-47 div.sk-label-container {text-align: center;}#sk-container-id-47 div.sk-container {/* jupyter's `normalize.less` sets `[hidden] { display: none; }` but bootstrap.min.css set `[hidden] { display: none !important; }` so we also need the `!important` here to be able to override the default hidden behavior on the sphinx rendered scikit-learn.org. See: https://github.com/scikit-learn/scikit-learn/issues/21755 */display: inline-block !important;position: relative;}#sk-container-id-47 div.sk-text-repr-fallback {display: none;}</style><div id=\"sk-container-id-47\" class=\"sk-top-container\"><div class=\"sk-text-repr-fallback\"><pre>Lasso(alpha=0.5)</pre><b>In a Jupyter environment, please rerun this cell to show the HTML representation or trust the notebook. <br />On GitHub, the HTML representation is unable to render, please try loading this page with nbviewer.org.</b></div><div class=\"sk-container\" hidden><div class=\"sk-item\"><div class=\"sk-estimator sk-toggleable\"><input class=\"sk-toggleable__control sk-hidden--visually\" id=\"sk-estimator-id-47\" type=\"checkbox\" checked><label for=\"sk-estimator-id-47\" class=\"sk-toggleable__label sk-toggleable__label-arrow\">Lasso</label><div class=\"sk-toggleable__content\"><pre>Lasso(alpha=0.5)</pre></div></div></div></div></div>"
            ],
            "text/plain": [
              "Lasso(alpha=0.5)"
            ]
          },
          "execution_count": 512,
          "metadata": {},
          "output_type": "execute_result"
        }
      ],
      "source": [
        "L1.fit(X_train, y_train)"
      ]
    },
    {
      "cell_type": "code",
      "execution_count": null,
      "id": "e6084c0c",
      "metadata": {
        "id": "e6084c0c",
        "outputId": "d037bac2-6768-4e14-d574-0afc4693ace4"
      },
      "outputs": [
        {
          "name": "stdout",
          "output_type": "stream",
          "text": [
            "MSE= 1078749.8613260153\n",
            "RMSE= 0.2041480829019114\n",
            "MAE= 811.960576874433\n",
            "R2_score= 0.9567788773088506\n"
          ]
        }
      ],
      "source": [
        "Y_pre1=L1.predict(X_train)\n",
        "MSE=mean_squared_error(Y_pre1,y_train)\n",
        "print('MSE=',MSE)\n",
        "RMSE=np.sqrt(MSE)\n",
        "print('RMSE=',RSME)\n",
        "MAE=mean_absolute_error(Y_pre1,y_train)\n",
        "print('MAE=',MAE)\n",
        "R2=r2_score(Y_pre1,y_train)\n",
        "print('R2_score=',R2)"
      ]
    },
    {
      "cell_type": "code",
      "execution_count": null,
      "id": "2b067542",
      "metadata": {
        "id": "2b067542",
        "outputId": "fbbc121f-ad1e-4758-cd38-fbe573a0cd14"
      },
      "outputs": [
        {
          "name": "stdout",
          "output_type": "stream",
          "text": [
            "MSE= 5661625.936445315\n",
            "RMSE= 2379.417142168501\n",
            "MAE= 1644.275341554521\n",
            "R2_score= 0.7121504330596953\n"
          ]
        }
      ],
      "source": [
        "Y_pre2=L1.predict(X_test)\n",
        "MSE=mean_squared_error(Y_pre2,y_test)\n",
        "print('MSE=',MSE)\n",
        "RMSE=np.sqrt(MSE)\n",
        "print('RMSE=',RMSE)\n",
        "MAE=mean_absolute_error(Y_pre2,y_test)\n",
        "print('MAE=',MAE)\n",
        "R2=r2_score(Y_pre2,y_test)\n",
        "print('R2_score=',R2)"
      ]
    },
    {
      "cell_type": "code",
      "execution_count": null,
      "id": "9fa1082f",
      "metadata": {
        "id": "9fa1082f",
        "outputId": "74196745-c1f7-4146-f956-4f5c995846b1"
      },
      "outputs": [
        {
          "data": {
            "text/html": [
              "<style>#sk-container-id-42 {color: black;}#sk-container-id-42 pre{padding: 0;}#sk-container-id-42 div.sk-toggleable {background-color: white;}#sk-container-id-42 label.sk-toggleable__label {cursor: pointer;display: block;width: 100%;margin-bottom: 0;padding: 0.3em;box-sizing: border-box;text-align: center;}#sk-container-id-42 label.sk-toggleable__label-arrow:before {content: \"▸\";float: left;margin-right: 0.25em;color: #696969;}#sk-container-id-42 label.sk-toggleable__label-arrow:hover:before {color: black;}#sk-container-id-42 div.sk-estimator:hover label.sk-toggleable__label-arrow:before {color: black;}#sk-container-id-42 div.sk-toggleable__content {max-height: 0;max-width: 0;overflow: hidden;text-align: left;background-color: #f0f8ff;}#sk-container-id-42 div.sk-toggleable__content pre {margin: 0.2em;color: black;border-radius: 0.25em;background-color: #f0f8ff;}#sk-container-id-42 input.sk-toggleable__control:checked~div.sk-toggleable__content {max-height: 200px;max-width: 100%;overflow: auto;}#sk-container-id-42 input.sk-toggleable__control:checked~label.sk-toggleable__label-arrow:before {content: \"▾\";}#sk-container-id-42 div.sk-estimator input.sk-toggleable__control:checked~label.sk-toggleable__label {background-color: #d4ebff;}#sk-container-id-42 div.sk-label input.sk-toggleable__control:checked~label.sk-toggleable__label {background-color: #d4ebff;}#sk-container-id-42 input.sk-hidden--visually {border: 0;clip: rect(1px 1px 1px 1px);clip: rect(1px, 1px, 1px, 1px);height: 1px;margin: -1px;overflow: hidden;padding: 0;position: absolute;width: 1px;}#sk-container-id-42 div.sk-estimator {font-family: monospace;background-color: #f0f8ff;border: 1px dotted black;border-radius: 0.25em;box-sizing: border-box;margin-bottom: 0.5em;}#sk-container-id-42 div.sk-estimator:hover {background-color: #d4ebff;}#sk-container-id-42 div.sk-parallel-item::after {content: \"\";width: 100%;border-bottom: 1px solid gray;flex-grow: 1;}#sk-container-id-42 div.sk-label:hover label.sk-toggleable__label {background-color: #d4ebff;}#sk-container-id-42 div.sk-serial::before {content: \"\";position: absolute;border-left: 1px solid gray;box-sizing: border-box;top: 0;bottom: 0;left: 50%;z-index: 0;}#sk-container-id-42 div.sk-serial {display: flex;flex-direction: column;align-items: center;background-color: white;padding-right: 0.2em;padding-left: 0.2em;position: relative;}#sk-container-id-42 div.sk-item {position: relative;z-index: 1;}#sk-container-id-42 div.sk-parallel {display: flex;align-items: stretch;justify-content: center;background-color: white;position: relative;}#sk-container-id-42 div.sk-item::before, #sk-container-id-42 div.sk-parallel-item::before {content: \"\";position: absolute;border-left: 1px solid gray;box-sizing: border-box;top: 0;bottom: 0;left: 50%;z-index: -1;}#sk-container-id-42 div.sk-parallel-item {display: flex;flex-direction: column;z-index: 1;position: relative;background-color: white;}#sk-container-id-42 div.sk-parallel-item:first-child::after {align-self: flex-end;width: 50%;}#sk-container-id-42 div.sk-parallel-item:last-child::after {align-self: flex-start;width: 50%;}#sk-container-id-42 div.sk-parallel-item:only-child::after {width: 0;}#sk-container-id-42 div.sk-dashed-wrapped {border: 1px dashed gray;margin: 0 0.4em 0.5em 0.4em;box-sizing: border-box;padding-bottom: 0.4em;background-color: white;}#sk-container-id-42 div.sk-label label {font-family: monospace;font-weight: bold;display: inline-block;line-height: 1.2em;}#sk-container-id-42 div.sk-label-container {text-align: center;}#sk-container-id-42 div.sk-container {/* jupyter's `normalize.less` sets `[hidden] { display: none; }` but bootstrap.min.css set `[hidden] { display: none !important; }` so we also need the `!important` here to be able to override the default hidden behavior on the sphinx rendered scikit-learn.org. See: https://github.com/scikit-learn/scikit-learn/issues/21755 */display: inline-block !important;position: relative;}#sk-container-id-42 div.sk-text-repr-fallback {display: none;}</style><div id=\"sk-container-id-42\" class=\"sk-top-container\"><div class=\"sk-text-repr-fallback\"><pre>Ridge(alpha=20)</pre><b>In a Jupyter environment, please rerun this cell to show the HTML representation or trust the notebook. <br />On GitHub, the HTML representation is unable to render, please try loading this page with nbviewer.org.</b></div><div class=\"sk-container\" hidden><div class=\"sk-item\"><div class=\"sk-estimator sk-toggleable\"><input class=\"sk-toggleable__control sk-hidden--visually\" id=\"sk-estimator-id-42\" type=\"checkbox\" checked><label for=\"sk-estimator-id-42\" class=\"sk-toggleable__label sk-toggleable__label-arrow\">Ridge</label><div class=\"sk-toggleable__content\"><pre>Ridge(alpha=20)</pre></div></div></div></div></div>"
            ],
            "text/plain": [
              "Ridge(alpha=20)"
            ]
          },
          "execution_count": 492,
          "metadata": {},
          "output_type": "execute_result"
        }
      ],
      "source": [
        "L2.fit(X_train,y_train)"
      ]
    },
    {
      "cell_type": "code",
      "execution_count": null,
      "id": "cd31b743",
      "metadata": {
        "id": "cd31b743",
        "outputId": "e887d9e0-169f-4389-ba70-8b838f57941e"
      },
      "outputs": [
        {
          "name": "stdout",
          "output_type": "stream",
          "text": [
            "MSE= 3493944.5506365187\n",
            "RMSE= 0.2041480829019114\n",
            "MAE= 1376.703519914117\n",
            "R2_score= 0.8304613019107486\n"
          ]
        }
      ],
      "source": [
        "Y_pre2=L2.predict(X_train)\n",
        "MSE=mean_squared_error(Y_pre2,y_train)\n",
        "print('MSE=',MSE)\n",
        "RMSE=np.sqrt(MSE)\n",
        "print('RMSE=',RSME)\n",
        "MAE=mean_absolute_error(Y_pre2,y_train)\n",
        "print('MAE=',MAE)\n",
        "R2=r2_score(Y_pre2,y_train)\n",
        "print('R2_score=',R2)"
      ]
    },
    {
      "cell_type": "code",
      "execution_count": null,
      "id": "d23ff607",
      "metadata": {
        "id": "d23ff607",
        "outputId": "b46568f9-bc14-4b78-cd55-da2ec354903c"
      },
      "outputs": [
        {
          "name": "stdout",
          "output_type": "stream",
          "text": [
            "MSE= 6252138.182486392\n",
            "RMSE= 2500.4275999289384\n",
            "MAE= 1848.6147632997775\n",
            "R2_score= 0.6883016093800394\n"
          ]
        }
      ],
      "source": [
        "Y_pre3=L2.predict(X_test)\n",
        "MSE=mean_squared_error(Y_pre3,y_test)\n",
        "print('MSE=',MSE)\n",
        "RMSE=np.sqrt(MSE)\n",
        "print('RMSE=',RMSE)\n",
        "MAE=mean_absolute_error(Y_pre3,y_test)\n",
        "print('MAE=',MAE)\n",
        "R2=r2_score(Y_pre3,y_test)\n",
        "print('R2_score=',R2)"
      ]
    },
    {
      "cell_type": "code",
      "execution_count": null,
      "id": "78b0a0ab",
      "metadata": {
        "id": "78b0a0ab"
      },
      "outputs": [],
      "source": []
    }
  ],
  "metadata": {
    "kernelspec": {
      "display_name": "Python 3 (ipykernel)",
      "language": "python",
      "name": "python3"
    },
    "language_info": {
      "codemirror_mode": {
        "name": "ipython",
        "version": 3
      },
      "file_extension": ".py",
      "mimetype": "text/x-python",
      "name": "python",
      "nbconvert_exporter": "python",
      "pygments_lexer": "ipython3",
      "version": "3.11.5"
    },
    "colab": {
      "provenance": [],
      "include_colab_link": true
    }
  },
  "nbformat": 4,
  "nbformat_minor": 5
}